{
  "nbformat": 4,
  "nbformat_minor": 0,
  "metadata": {
    "colab": {
      "provenance": [],
      "include_colab_link": true
    },
    "kernelspec": {
      "name": "python3",
      "display_name": "Python 3"
    },
    "language_info": {
      "name": "python"
    }
  },
  "cells": [
    {
      "cell_type": "markdown",
      "metadata": {
        "id": "view-in-github",
        "colab_type": "text"
      },
      "source": [
        "<a href=\"https://colab.research.google.com/github/MOKUAGU/Codes/blob/main/Copy_of_CS_167_Project_1.ipynb\" target=\"_parent\"><img src=\"https://colab.research.google.com/assets/colab-badge.svg\" alt=\"Open In Colab\"/></a>"
      ]
    },
    {
      "cell_type": "markdown",
      "source": [
        "# Project #1\n",
        "# Name: Munachi Okuagu"
      ],
      "metadata": {
        "id": "-BU7Gq41DZ3J"
      }
    },
    {
      "cell_type": "code",
      "execution_count": null,
      "metadata": {
        "colab": {
          "base_uri": "https://localhost:8080/"
        },
        "id": "oEYhfh9WDIKb",
        "outputId": "54a0b331-986f-45ce-dd1a-ebadb77ff6a1"
      },
      "outputs": [
        {
          "output_type": "stream",
          "name": "stdout",
          "text": [
            "Mounted at /content/drive\n"
          ]
        }
      ],
      "source": [
        "# mount drive\n",
        "from google.colab import drive\n",
        "drive.mount('/content/drive')"
      ]
    },
    {
      "cell_type": "code",
      "source": [
        "# import libraries\n",
        "import sklearn\n",
        "import pandas as pd \n",
        "from sklearn import tree\n",
        "from sklearn.model_selection import train_test_split\n",
        "from sklearn import metrics\n",
        "from sklearn import neighbors\n",
        "from sklearn.dummy import DummyClassifier\n",
        "\n",
        "# load data\n",
        "car_data = pd.read_csv('/content/drive/MyDrive/CS167DATASETS/CarPricesProject1.csv')\n",
        "car_data.head()\n"
      ],
      "metadata": {
        "id": "PfWHIGzlEGlW",
        "outputId": "ae9815dd-2fd0-4859-cc40-c6becd008aa5",
        "colab": {
          "base_uri": "https://localhost:8080/",
          "height": 352
        }
      },
      "execution_count": null,
      "outputs": [
        {
          "output_type": "execute_result",
          "data": {
            "text/plain": [
              "   symboling                   CarName fueltype aspiration doornumber  \\\n",
              "0        3.0        alfa-romero giulia      gas        std        two   \n",
              "1        3.0       alfa-romero stelvio      gas        std        two   \n",
              "2        1.0  alfa-romero Quadrifoglio      gas        std        two   \n",
              "3        2.0               audi 100 ls      gas        std       four   \n",
              "4        2.0                audi 100ls      gas        std       four   \n",
              "\n",
              "       carbody drivewheel enginelocation  wheelbase  carlength  ...  \\\n",
              "0  convertible        rwd          front       88.6      168.8  ...   \n",
              "1  convertible        rwd          front       88.6      168.8  ...   \n",
              "2    hatchback        rwd          front       94.5      171.2  ...   \n",
              "3        sedan        fwd          front       99.8      176.6  ...   \n",
              "4        sedan        4wd          front       99.4      176.6  ...   \n",
              "\n",
              "   enginesize  fuelsystem  boreratio stroke compressionratio  horsepower  \\\n",
              "0       130.0        mpfi       3.47   2.68              9.0       111.0   \n",
              "1       130.0        mpfi       3.47   2.68              9.0       111.0   \n",
              "2       152.0        mpfi       2.68   3.47              9.0       154.0   \n",
              "3       109.0        mpfi       3.19   3.40             10.0       102.0   \n",
              "4       136.0        mpfi       3.19   3.40              8.0       115.0   \n",
              "\n",
              "  peakrpm  citympg  highwaympg    price  \n",
              "0  5000.0     21.0        27.0  13495.0  \n",
              "1  5000.0     21.0        27.0  16500.0  \n",
              "2  5000.0     19.0        26.0  16500.0  \n",
              "3  5500.0     24.0        30.0  13950.0  \n",
              "4  5500.0     18.0        22.0  17450.0  \n",
              "\n",
              "[5 rows x 25 columns]"
            ],
            "text/html": [
              "\n",
              "  <div id=\"df-a59eabe1-3cb1-4e9c-82fb-fac7b35c02df\">\n",
              "    <div class=\"colab-df-container\">\n",
              "      <div>\n",
              "<style scoped>\n",
              "    .dataframe tbody tr th:only-of-type {\n",
              "        vertical-align: middle;\n",
              "    }\n",
              "\n",
              "    .dataframe tbody tr th {\n",
              "        vertical-align: top;\n",
              "    }\n",
              "\n",
              "    .dataframe thead th {\n",
              "        text-align: right;\n",
              "    }\n",
              "</style>\n",
              "<table border=\"1\" class=\"dataframe\">\n",
              "  <thead>\n",
              "    <tr style=\"text-align: right;\">\n",
              "      <th></th>\n",
              "      <th>symboling</th>\n",
              "      <th>CarName</th>\n",
              "      <th>fueltype</th>\n",
              "      <th>aspiration</th>\n",
              "      <th>doornumber</th>\n",
              "      <th>carbody</th>\n",
              "      <th>drivewheel</th>\n",
              "      <th>enginelocation</th>\n",
              "      <th>wheelbase</th>\n",
              "      <th>carlength</th>\n",
              "      <th>...</th>\n",
              "      <th>enginesize</th>\n",
              "      <th>fuelsystem</th>\n",
              "      <th>boreratio</th>\n",
              "      <th>stroke</th>\n",
              "      <th>compressionratio</th>\n",
              "      <th>horsepower</th>\n",
              "      <th>peakrpm</th>\n",
              "      <th>citympg</th>\n",
              "      <th>highwaympg</th>\n",
              "      <th>price</th>\n",
              "    </tr>\n",
              "  </thead>\n",
              "  <tbody>\n",
              "    <tr>\n",
              "      <th>0</th>\n",
              "      <td>3.0</td>\n",
              "      <td>alfa-romero giulia</td>\n",
              "      <td>gas</td>\n",
              "      <td>std</td>\n",
              "      <td>two</td>\n",
              "      <td>convertible</td>\n",
              "      <td>rwd</td>\n",
              "      <td>front</td>\n",
              "      <td>88.6</td>\n",
              "      <td>168.8</td>\n",
              "      <td>...</td>\n",
              "      <td>130.0</td>\n",
              "      <td>mpfi</td>\n",
              "      <td>3.47</td>\n",
              "      <td>2.68</td>\n",
              "      <td>9.0</td>\n",
              "      <td>111.0</td>\n",
              "      <td>5000.0</td>\n",
              "      <td>21.0</td>\n",
              "      <td>27.0</td>\n",
              "      <td>13495.0</td>\n",
              "    </tr>\n",
              "    <tr>\n",
              "      <th>1</th>\n",
              "      <td>3.0</td>\n",
              "      <td>alfa-romero stelvio</td>\n",
              "      <td>gas</td>\n",
              "      <td>std</td>\n",
              "      <td>two</td>\n",
              "      <td>convertible</td>\n",
              "      <td>rwd</td>\n",
              "      <td>front</td>\n",
              "      <td>88.6</td>\n",
              "      <td>168.8</td>\n",
              "      <td>...</td>\n",
              "      <td>130.0</td>\n",
              "      <td>mpfi</td>\n",
              "      <td>3.47</td>\n",
              "      <td>2.68</td>\n",
              "      <td>9.0</td>\n",
              "      <td>111.0</td>\n",
              "      <td>5000.0</td>\n",
              "      <td>21.0</td>\n",
              "      <td>27.0</td>\n",
              "      <td>16500.0</td>\n",
              "    </tr>\n",
              "    <tr>\n",
              "      <th>2</th>\n",
              "      <td>1.0</td>\n",
              "      <td>alfa-romero Quadrifoglio</td>\n",
              "      <td>gas</td>\n",
              "      <td>std</td>\n",
              "      <td>two</td>\n",
              "      <td>hatchback</td>\n",
              "      <td>rwd</td>\n",
              "      <td>front</td>\n",
              "      <td>94.5</td>\n",
              "      <td>171.2</td>\n",
              "      <td>...</td>\n",
              "      <td>152.0</td>\n",
              "      <td>mpfi</td>\n",
              "      <td>2.68</td>\n",
              "      <td>3.47</td>\n",
              "      <td>9.0</td>\n",
              "      <td>154.0</td>\n",
              "      <td>5000.0</td>\n",
              "      <td>19.0</td>\n",
              "      <td>26.0</td>\n",
              "      <td>16500.0</td>\n",
              "    </tr>\n",
              "    <tr>\n",
              "      <th>3</th>\n",
              "      <td>2.0</td>\n",
              "      <td>audi 100 ls</td>\n",
              "      <td>gas</td>\n",
              "      <td>std</td>\n",
              "      <td>four</td>\n",
              "      <td>sedan</td>\n",
              "      <td>fwd</td>\n",
              "      <td>front</td>\n",
              "      <td>99.8</td>\n",
              "      <td>176.6</td>\n",
              "      <td>...</td>\n",
              "      <td>109.0</td>\n",
              "      <td>mpfi</td>\n",
              "      <td>3.19</td>\n",
              "      <td>3.40</td>\n",
              "      <td>10.0</td>\n",
              "      <td>102.0</td>\n",
              "      <td>5500.0</td>\n",
              "      <td>24.0</td>\n",
              "      <td>30.0</td>\n",
              "      <td>13950.0</td>\n",
              "    </tr>\n",
              "    <tr>\n",
              "      <th>4</th>\n",
              "      <td>2.0</td>\n",
              "      <td>audi 100ls</td>\n",
              "      <td>gas</td>\n",
              "      <td>std</td>\n",
              "      <td>four</td>\n",
              "      <td>sedan</td>\n",
              "      <td>4wd</td>\n",
              "      <td>front</td>\n",
              "      <td>99.4</td>\n",
              "      <td>176.6</td>\n",
              "      <td>...</td>\n",
              "      <td>136.0</td>\n",
              "      <td>mpfi</td>\n",
              "      <td>3.19</td>\n",
              "      <td>3.40</td>\n",
              "      <td>8.0</td>\n",
              "      <td>115.0</td>\n",
              "      <td>5500.0</td>\n",
              "      <td>18.0</td>\n",
              "      <td>22.0</td>\n",
              "      <td>17450.0</td>\n",
              "    </tr>\n",
              "  </tbody>\n",
              "</table>\n",
              "<p>5 rows × 25 columns</p>\n",
              "</div>\n",
              "      <button class=\"colab-df-convert\" onclick=\"convertToInteractive('df-a59eabe1-3cb1-4e9c-82fb-fac7b35c02df')\"\n",
              "              title=\"Convert this dataframe to an interactive table.\"\n",
              "              style=\"display:none;\">\n",
              "        \n",
              "  <svg xmlns=\"http://www.w3.org/2000/svg\" height=\"24px\"viewBox=\"0 0 24 24\"\n",
              "       width=\"24px\">\n",
              "    <path d=\"M0 0h24v24H0V0z\" fill=\"none\"/>\n",
              "    <path d=\"M18.56 5.44l.94 2.06.94-2.06 2.06-.94-2.06-.94-.94-2.06-.94 2.06-2.06.94zm-11 1L8.5 8.5l.94-2.06 2.06-.94-2.06-.94L8.5 2.5l-.94 2.06-2.06.94zm10 10l.94 2.06.94-2.06 2.06-.94-2.06-.94-.94-2.06-.94 2.06-2.06.94z\"/><path d=\"M17.41 7.96l-1.37-1.37c-.4-.4-.92-.59-1.43-.59-.52 0-1.04.2-1.43.59L10.3 9.45l-7.72 7.72c-.78.78-.78 2.05 0 2.83L4 21.41c.39.39.9.59 1.41.59.51 0 1.02-.2 1.41-.59l7.78-7.78 2.81-2.81c.8-.78.8-2.07 0-2.86zM5.41 20L4 18.59l7.72-7.72 1.47 1.35L5.41 20z\"/>\n",
              "  </svg>\n",
              "      </button>\n",
              "      \n",
              "  <style>\n",
              "    .colab-df-container {\n",
              "      display:flex;\n",
              "      flex-wrap:wrap;\n",
              "      gap: 12px;\n",
              "    }\n",
              "\n",
              "    .colab-df-convert {\n",
              "      background-color: #E8F0FE;\n",
              "      border: none;\n",
              "      border-radius: 50%;\n",
              "      cursor: pointer;\n",
              "      display: none;\n",
              "      fill: #1967D2;\n",
              "      height: 32px;\n",
              "      padding: 0 0 0 0;\n",
              "      width: 32px;\n",
              "    }\n",
              "\n",
              "    .colab-df-convert:hover {\n",
              "      background-color: #E2EBFA;\n",
              "      box-shadow: 0px 1px 2px rgba(60, 64, 67, 0.3), 0px 1px 3px 1px rgba(60, 64, 67, 0.15);\n",
              "      fill: #174EA6;\n",
              "    }\n",
              "\n",
              "    [theme=dark] .colab-df-convert {\n",
              "      background-color: #3B4455;\n",
              "      fill: #D2E3FC;\n",
              "    }\n",
              "\n",
              "    [theme=dark] .colab-df-convert:hover {\n",
              "      background-color: #434B5C;\n",
              "      box-shadow: 0px 1px 3px 1px rgba(0, 0, 0, 0.15);\n",
              "      filter: drop-shadow(0px 1px 2px rgba(0, 0, 0, 0.3));\n",
              "      fill: #FFFFFF;\n",
              "    }\n",
              "  </style>\n",
              "\n",
              "      <script>\n",
              "        const buttonEl =\n",
              "          document.querySelector('#df-a59eabe1-3cb1-4e9c-82fb-fac7b35c02df button.colab-df-convert');\n",
              "        buttonEl.style.display =\n",
              "          google.colab.kernel.accessAllowed ? 'block' : 'none';\n",
              "\n",
              "        async function convertToInteractive(key) {\n",
              "          const element = document.querySelector('#df-a59eabe1-3cb1-4e9c-82fb-fac7b35c02df');\n",
              "          const dataTable =\n",
              "            await google.colab.kernel.invokeFunction('convertToInteractive',\n",
              "                                                     [key], {});\n",
              "          if (!dataTable) return;\n",
              "\n",
              "          const docLinkHtml = 'Like what you see? Visit the ' +\n",
              "            '<a target=\"_blank\" href=https://colab.research.google.com/notebooks/data_table.ipynb>data table notebook</a>'\n",
              "            + ' to learn more about interactive tables.';\n",
              "          element.innerHTML = '';\n",
              "          dataTable['output_type'] = 'display_data';\n",
              "          await google.colab.output.renderOutput(dataTable, element);\n",
              "          const docLink = document.createElement('div');\n",
              "          docLink.innerHTML = docLinkHtml;\n",
              "          element.appendChild(docLink);\n",
              "        }\n",
              "      </script>\n",
              "    </div>\n",
              "  </div>\n",
              "  "
            ]
          },
          "metadata": {},
          "execution_count": 3
        }
      ]
    },
    {
      "cell_type": "markdown",
      "source": [
        "# Data Preparation\n",
        "Explain your data preparation. What did you have to do to get your data in shape for your experiments - creation of dummy variables, filling in missing values, etc."
      ],
      "metadata": {
        "id": "z11g8GFvIi1R"
      }
    },
    {
      "cell_type": "markdown",
      "source": [
        "clean the data \n",
        " regression - had drop the column of car name it was cluttering the data set and was not neccessary when doing regression. "
      ],
      "metadata": {
        "id": "euMHJ0O8CdV4"
      }
    },
    {
      "cell_type": "code",
      "source": [
        "cars = car_data.copy()\n",
        "\n",
        "cars.drop(columns=[\"CarName\"],inplace = True)\n",
        "\n",
        "symboling_mean = cars['symboling'].mean()\n",
        "cars['symboling'].fillna(symboling_mean, inplace=True)\n",
        "\n",
        "\n",
        "wheelbase_mean = cars['wheelbase'].mean()\n",
        "cars['wheelbase'].fillna(wheelbase_mean, inplace=True)\n",
        "\n",
        "carlength_mean = cars['carlength'].mean()\n",
        "cars['carlength'].fillna(carlength_mean, inplace=True)\n",
        "\n",
        "carwidth_mean = cars['carwidth'].mean()\n",
        "cars['carwidth'].fillna(carwidth_mean, inplace=True)\n",
        "\n",
        "carheight_mean = cars['carheight'].mean()\n",
        "cars['carheight'].fillna(carheight_mean, inplace=True)\n",
        "\n",
        "curbweight_mean = cars['curbweight'].mean()\n",
        "cars['curbweight'].fillna(curbweight_mean, inplace=True)\n",
        "\n",
        "boreratio_mean = cars['boreratio'].mean()\n",
        "cars['boreratio'].fillna(boreratio_mean, inplace=True)\n",
        "\n",
        "stroke_mean = cars['stroke'].mean()\n",
        "cars['stroke'].fillna(stroke_mean, inplace=True)\n",
        "\n",
        "compressionratio_mean = cars['compressionratio'].mean()\n",
        "cars['compressionratio'].fillna(compressionratio_mean, inplace=True)\n",
        "\n",
        "horsepower_mean = cars['horsepower'].mean()\n",
        "cars['horsepower'].fillna(horsepower_mean, inplace=True)\n",
        "\n",
        "peakrpm_mean = cars['peakrpm'].mean()\n",
        "cars['peakrpm'].fillna(peakrpm_mean, inplace=True)\n",
        "\n",
        "citympg_mean = cars['citympg'].mean()\n",
        "cars['citympg'].fillna(citympg_mean, inplace=True)\n",
        "\n",
        "highwaympg_mean = cars['highwaympg'].mean()\n",
        "cars['highwaympg'].fillna(highwaympg_mean, inplace=True)\n",
        "\n",
        "price_mean = cars['price'].mean()\n",
        "cars['price'].fillna(price_mean, inplace=True)\n",
        "\n",
        "#classificationdata \n",
        "\n",
        "cars = pd.get_dummies(cars, columns=['fueltype', 'aspiration', 'doornumber', 'doornumber','carbody','drivewheel','enginelocation','enginetype', 'cylindernumber','enginesize','fuelsystem'])\n",
        "\n",
        "\n",
        "print(cars.isna().any())\n"
      ],
      "metadata": {
        "id": "4fpN0t2_ROSg",
        "outputId": "526946af-fec5-4b5e-924c-8803acc904d7",
        "colab": {
          "base_uri": "https://localhost:8080/"
        }
      },
      "execution_count": null,
      "outputs": [
        {
          "output_type": "stream",
          "name": "stdout",
          "text": [
            "symboling          False\n",
            "wheelbase          False\n",
            "carlength          False\n",
            "carwidth           False\n",
            "carheight          False\n",
            "                   ...  \n",
            "fuelsystem_idi     False\n",
            "fuelsystem_mfi     False\n",
            "fuelsystem_mpfi    False\n",
            "fuelsystem_spdi    False\n",
            "fuelsystem_spfi    False\n",
            "Length: 97, dtype: bool\n"
          ]
        }
      ]
    },
    {
      "cell_type": "markdown",
      "source": [
        "cleaned the data- want all the values to print out false because that means there are no missing values in that column. \n",
        "I also created a few dummy variables for the categorical data that did not have a numerical value in the column so when running the regression model those values would have some weight. "
      ],
      "metadata": {
        "id": "G5GpP5ld7g-0"
      }
    },
    {
      "cell_type": "code",
      "source": [
        "target_value= 'price'\n",
        "predictors = cars.columns.drop(target_value) \n",
        "train_data, test_data, train_sln, test_sln = train_test_split(cars[predictors], cars[target_value], test_size = 0.2, random_state=41)\n",
        "train_data.head()"
      ],
      "metadata": {
        "colab": {
          "base_uri": "https://localhost:8080/",
          "height": 300
        },
        "id": "fYLenvtYBhtg",
        "outputId": "ac80c70b-8a06-4ed6-bd8f-dc40fc5c6f3d"
      },
      "execution_count": null,
      "outputs": [
        {
          "output_type": "execute_result",
          "data": {
            "text/plain": [
              "     symboling  wheelbase  carlength  carwidth  carheight  curbweight  \\\n",
              "190        3.0       94.5      165.7      64.0       51.4      2221.0   \n",
              "106        1.0       99.2      178.5      67.9       49.7      3139.0   \n",
              "83         3.0       95.9      173.2      66.3       50.2      2921.0   \n",
              "153        0.0       95.7      169.7      63.6       59.1      2280.0   \n",
              "23         1.0       93.7      157.3      63.8       50.8      2128.0   \n",
              "\n",
              "     boreratio  stroke  compressionratio  horsepower  ...  enginesize_308.0  \\\n",
              "190       3.19    3.40               8.5        90.0  ...                 0   \n",
              "106       3.43    3.27               9.0       160.0  ...                 0   \n",
              "83        3.59    3.86               7.0       145.0  ...                 0   \n",
              "153       3.05    3.03               9.0        62.0  ...                 0   \n",
              "23        3.03    3.39               7.6       102.0  ...                 0   \n",
              "\n",
              "     enginesize_326.0  fuelsystem_1bbl  fuelsystem_2bbl  fuelsystem_4bbl  \\\n",
              "190                 0                0                0                0   \n",
              "106                 0                0                0                0   \n",
              "83                  0                0                0                0   \n",
              "153                 0                0                1                0   \n",
              "23                  0                0                0                0   \n",
              "\n",
              "     fuelsystem_idi  fuelsystem_mfi  fuelsystem_mpfi  fuelsystem_spdi  \\\n",
              "190               0               0                1                0   \n",
              "106               0               0                1                0   \n",
              "83                0               0                0                1   \n",
              "153               0               0                0                0   \n",
              "23                0               0                1                0   \n",
              "\n",
              "     fuelsystem_spfi  \n",
              "190                0  \n",
              "106                0  \n",
              "83                 0  \n",
              "153                0  \n",
              "23                 0  \n",
              "\n",
              "[5 rows x 100 columns]"
            ],
            "text/html": [
              "\n",
              "  <div id=\"df-bb01ebe6-7d2b-43e6-b809-0fde3fb208a7\">\n",
              "    <div class=\"colab-df-container\">\n",
              "      <div>\n",
              "<style scoped>\n",
              "    .dataframe tbody tr th:only-of-type {\n",
              "        vertical-align: middle;\n",
              "    }\n",
              "\n",
              "    .dataframe tbody tr th {\n",
              "        vertical-align: top;\n",
              "    }\n",
              "\n",
              "    .dataframe thead th {\n",
              "        text-align: right;\n",
              "    }\n",
              "</style>\n",
              "<table border=\"1\" class=\"dataframe\">\n",
              "  <thead>\n",
              "    <tr style=\"text-align: right;\">\n",
              "      <th></th>\n",
              "      <th>symboling</th>\n",
              "      <th>wheelbase</th>\n",
              "      <th>carlength</th>\n",
              "      <th>carwidth</th>\n",
              "      <th>carheight</th>\n",
              "      <th>curbweight</th>\n",
              "      <th>boreratio</th>\n",
              "      <th>stroke</th>\n",
              "      <th>compressionratio</th>\n",
              "      <th>horsepower</th>\n",
              "      <th>...</th>\n",
              "      <th>enginesize_308.0</th>\n",
              "      <th>enginesize_326.0</th>\n",
              "      <th>fuelsystem_1bbl</th>\n",
              "      <th>fuelsystem_2bbl</th>\n",
              "      <th>fuelsystem_4bbl</th>\n",
              "      <th>fuelsystem_idi</th>\n",
              "      <th>fuelsystem_mfi</th>\n",
              "      <th>fuelsystem_mpfi</th>\n",
              "      <th>fuelsystem_spdi</th>\n",
              "      <th>fuelsystem_spfi</th>\n",
              "    </tr>\n",
              "  </thead>\n",
              "  <tbody>\n",
              "    <tr>\n",
              "      <th>190</th>\n",
              "      <td>3.0</td>\n",
              "      <td>94.5</td>\n",
              "      <td>165.7</td>\n",
              "      <td>64.0</td>\n",
              "      <td>51.4</td>\n",
              "      <td>2221.0</td>\n",
              "      <td>3.19</td>\n",
              "      <td>3.40</td>\n",
              "      <td>8.5</td>\n",
              "      <td>90.0</td>\n",
              "      <td>...</td>\n",
              "      <td>0</td>\n",
              "      <td>0</td>\n",
              "      <td>0</td>\n",
              "      <td>0</td>\n",
              "      <td>0</td>\n",
              "      <td>0</td>\n",
              "      <td>0</td>\n",
              "      <td>1</td>\n",
              "      <td>0</td>\n",
              "      <td>0</td>\n",
              "    </tr>\n",
              "    <tr>\n",
              "      <th>106</th>\n",
              "      <td>1.0</td>\n",
              "      <td>99.2</td>\n",
              "      <td>178.5</td>\n",
              "      <td>67.9</td>\n",
              "      <td>49.7</td>\n",
              "      <td>3139.0</td>\n",
              "      <td>3.43</td>\n",
              "      <td>3.27</td>\n",
              "      <td>9.0</td>\n",
              "      <td>160.0</td>\n",
              "      <td>...</td>\n",
              "      <td>0</td>\n",
              "      <td>0</td>\n",
              "      <td>0</td>\n",
              "      <td>0</td>\n",
              "      <td>0</td>\n",
              "      <td>0</td>\n",
              "      <td>0</td>\n",
              "      <td>1</td>\n",
              "      <td>0</td>\n",
              "      <td>0</td>\n",
              "    </tr>\n",
              "    <tr>\n",
              "      <th>83</th>\n",
              "      <td>3.0</td>\n",
              "      <td>95.9</td>\n",
              "      <td>173.2</td>\n",
              "      <td>66.3</td>\n",
              "      <td>50.2</td>\n",
              "      <td>2921.0</td>\n",
              "      <td>3.59</td>\n",
              "      <td>3.86</td>\n",
              "      <td>7.0</td>\n",
              "      <td>145.0</td>\n",
              "      <td>...</td>\n",
              "      <td>0</td>\n",
              "      <td>0</td>\n",
              "      <td>0</td>\n",
              "      <td>0</td>\n",
              "      <td>0</td>\n",
              "      <td>0</td>\n",
              "      <td>0</td>\n",
              "      <td>0</td>\n",
              "      <td>1</td>\n",
              "      <td>0</td>\n",
              "    </tr>\n",
              "    <tr>\n",
              "      <th>153</th>\n",
              "      <td>0.0</td>\n",
              "      <td>95.7</td>\n",
              "      <td>169.7</td>\n",
              "      <td>63.6</td>\n",
              "      <td>59.1</td>\n",
              "      <td>2280.0</td>\n",
              "      <td>3.05</td>\n",
              "      <td>3.03</td>\n",
              "      <td>9.0</td>\n",
              "      <td>62.0</td>\n",
              "      <td>...</td>\n",
              "      <td>0</td>\n",
              "      <td>0</td>\n",
              "      <td>0</td>\n",
              "      <td>1</td>\n",
              "      <td>0</td>\n",
              "      <td>0</td>\n",
              "      <td>0</td>\n",
              "      <td>0</td>\n",
              "      <td>0</td>\n",
              "      <td>0</td>\n",
              "    </tr>\n",
              "    <tr>\n",
              "      <th>23</th>\n",
              "      <td>1.0</td>\n",
              "      <td>93.7</td>\n",
              "      <td>157.3</td>\n",
              "      <td>63.8</td>\n",
              "      <td>50.8</td>\n",
              "      <td>2128.0</td>\n",
              "      <td>3.03</td>\n",
              "      <td>3.39</td>\n",
              "      <td>7.6</td>\n",
              "      <td>102.0</td>\n",
              "      <td>...</td>\n",
              "      <td>0</td>\n",
              "      <td>0</td>\n",
              "      <td>0</td>\n",
              "      <td>0</td>\n",
              "      <td>0</td>\n",
              "      <td>0</td>\n",
              "      <td>0</td>\n",
              "      <td>1</td>\n",
              "      <td>0</td>\n",
              "      <td>0</td>\n",
              "    </tr>\n",
              "  </tbody>\n",
              "</table>\n",
              "<p>5 rows × 100 columns</p>\n",
              "</div>\n",
              "      <button class=\"colab-df-convert\" onclick=\"convertToInteractive('df-bb01ebe6-7d2b-43e6-b809-0fde3fb208a7')\"\n",
              "              title=\"Convert this dataframe to an interactive table.\"\n",
              "              style=\"display:none;\">\n",
              "        \n",
              "  <svg xmlns=\"http://www.w3.org/2000/svg\" height=\"24px\"viewBox=\"0 0 24 24\"\n",
              "       width=\"24px\">\n",
              "    <path d=\"M0 0h24v24H0V0z\" fill=\"none\"/>\n",
              "    <path d=\"M18.56 5.44l.94 2.06.94-2.06 2.06-.94-2.06-.94-.94-2.06-.94 2.06-2.06.94zm-11 1L8.5 8.5l.94-2.06 2.06-.94-2.06-.94L8.5 2.5l-.94 2.06-2.06.94zm10 10l.94 2.06.94-2.06 2.06-.94-2.06-.94-.94-2.06-.94 2.06-2.06.94z\"/><path d=\"M17.41 7.96l-1.37-1.37c-.4-.4-.92-.59-1.43-.59-.52 0-1.04.2-1.43.59L10.3 9.45l-7.72 7.72c-.78.78-.78 2.05 0 2.83L4 21.41c.39.39.9.59 1.41.59.51 0 1.02-.2 1.41-.59l7.78-7.78 2.81-2.81c.8-.78.8-2.07 0-2.86zM5.41 20L4 18.59l7.72-7.72 1.47 1.35L5.41 20z\"/>\n",
              "  </svg>\n",
              "      </button>\n",
              "      \n",
              "  <style>\n",
              "    .colab-df-container {\n",
              "      display:flex;\n",
              "      flex-wrap:wrap;\n",
              "      gap: 12px;\n",
              "    }\n",
              "\n",
              "    .colab-df-convert {\n",
              "      background-color: #E8F0FE;\n",
              "      border: none;\n",
              "      border-radius: 50%;\n",
              "      cursor: pointer;\n",
              "      display: none;\n",
              "      fill: #1967D2;\n",
              "      height: 32px;\n",
              "      padding: 0 0 0 0;\n",
              "      width: 32px;\n",
              "    }\n",
              "\n",
              "    .colab-df-convert:hover {\n",
              "      background-color: #E2EBFA;\n",
              "      box-shadow: 0px 1px 2px rgba(60, 64, 67, 0.3), 0px 1px 3px 1px rgba(60, 64, 67, 0.15);\n",
              "      fill: #174EA6;\n",
              "    }\n",
              "\n",
              "    [theme=dark] .colab-df-convert {\n",
              "      background-color: #3B4455;\n",
              "      fill: #D2E3FC;\n",
              "    }\n",
              "\n",
              "    [theme=dark] .colab-df-convert:hover {\n",
              "      background-color: #434B5C;\n",
              "      box-shadow: 0px 1px 3px 1px rgba(0, 0, 0, 0.15);\n",
              "      filter: drop-shadow(0px 1px 2px rgba(0, 0, 0, 0.3));\n",
              "      fill: #FFFFFF;\n",
              "    }\n",
              "  </style>\n",
              "\n",
              "      <script>\n",
              "        const buttonEl =\n",
              "          document.querySelector('#df-bb01ebe6-7d2b-43e6-b809-0fde3fb208a7 button.colab-df-convert');\n",
              "        buttonEl.style.display =\n",
              "          google.colab.kernel.accessAllowed ? 'block' : 'none';\n",
              "\n",
              "        async function convertToInteractive(key) {\n",
              "          const element = document.querySelector('#df-bb01ebe6-7d2b-43e6-b809-0fde3fb208a7');\n",
              "          const dataTable =\n",
              "            await google.colab.kernel.invokeFunction('convertToInteractive',\n",
              "                                                     [key], {});\n",
              "          if (!dataTable) return;\n",
              "\n",
              "          const docLinkHtml = 'Like what you see? Visit the ' +\n",
              "            '<a target=\"_blank\" href=https://colab.research.google.com/notebooks/data_table.ipynb>data table notebook</a>'\n",
              "            + ' to learn more about interactive tables.';\n",
              "          element.innerHTML = '';\n",
              "          dataTable['output_type'] = 'display_data';\n",
              "          await google.colab.output.renderOutput(dataTable, element);\n",
              "          const docLink = document.createElement('div');\n",
              "          docLink.innerHTML = docLinkHtml;\n",
              "          element.appendChild(docLink);\n",
              "        }\n",
              "      </script>\n",
              "    </div>\n",
              "  </div>\n",
              "  "
            ]
          },
          "metadata": {},
          "execution_count": 7
        }
      ]
    },
    {
      "cell_type": "markdown",
      "source": [
        "using the .getdummies function for any columns with categorical data to change them to 0 or 1 because when doing regression you have to have only numerical values for a better prediction. "
      ],
      "metadata": {
        "id": "3mYJ59Tc8rgD"
      }
    },
    {
      "cell_type": "code",
      "source": [
        "#normalize data  \n",
        "from sklearn.preprocessing import StandardScaler\n",
        "scaler = StandardScaler()\n",
        "scaler.fit(train_data)\n",
        "train_data_normalized = scaler.transform(train_data)\n",
        "test_data_normalized = scaler.transform(test_data)\n",
        "\n",
        "#now use test data and normalized data "
      ],
      "metadata": {
        "id": "8lltcV1eD5sV"
      },
      "execution_count": null,
      "outputs": []
    },
    {
      "cell_type": "markdown",
      "source": [
        "^normalized the data to get all the values on the same scale which is better for representation amongst all data columns. "
      ],
      "metadata": {
        "id": "3R6BVaDc9Ej5"
      }
    },
    {
      "cell_type": "markdown",
      "source": [
        "# Part 1: Regression\n",
        "How well can you predict target value `price`?"
      ],
      "metadata": {
        "id": "8AOn5pGfIqwM"
      }
    },
    {
      "cell_type": "markdown",
      "source": [
        "- **Metrics**: Identify which metrics you will be using to test your model, and say why they are appropriate. Identify a baseline for your metrics - what would you expect to happen with this particular data if you always guessed the average or if you guessed randomly?\n"
      ],
      "metadata": {
        "id": "lEASENsEfZDo"
      }
    },
    {
      "cell_type": "markdown",
      "source": [
        "my metrics for the regression "
      ],
      "metadata": {
        "id": "n6hwo2cPIWZ0"
      }
    },
    {
      "cell_type": "markdown",
      "source": [
        "for the knn algorithm I would predict the algorithm to perform well because KNN works better when working with larger scale numerical data- the metrics I will be using is r^2 and MSE because those are the standard metrics for regression so I am expecting them to perform well and for my r^2 to be close to 1. \n",
        "What I would expect to happen: I would expect my numbers to be more accurate because \n"
      ],
      "metadata": {
        "id": "ZrcBjX1_6h-P"
      }
    },
    {
      "cell_type": "code",
      "source": [
        "#KNN \n",
        "from sklearn import neighbors\n",
        "from sklearn import metrics\n",
        "\n",
        "# create our model\n",
        "neigh = neighbors.KNeighborsRegressor(n_neighbors= 3)\n",
        "\n",
        "# fit (train) the model to the data\n",
        "neigh.fit(train_data_normalized, train_sln)\n",
        "\n",
        "# use the trained model to get predictions from our test_data\n",
        "predictions = neigh.predict(test_data_normalized)\n",
        "\n",
        "\n",
        "# use a metric to see how good our predictions are; Don't miss this! Using Regression metrics here!!\n",
        "print('MSE: ', metrics.mean_squared_error(test_sln, predictions))\n",
        "print('r2: ', metrics.r2_score(test_sln, predictions))"
      ],
      "metadata": {
        "id": "oQxIHMXI2QOr",
        "colab": {
          "base_uri": "https://localhost:8080/"
        },
        "outputId": "d3ef833c-668c-449d-ca40-ff128d7a3080"
      },
      "execution_count": null,
      "outputs": [
        {
          "output_type": "stream",
          "name": "stdout",
          "text": [
            "MSE:  13292154.941848148\n",
            "r2:  0.6484838130518773\n"
          ]
        }
      ]
    },
    {
      "cell_type": "markdown",
      "source": [
        "r^2 is highest when neighbors = 3 in comparison to 5 (standard) any higher and the predictions decline. "
      ],
      "metadata": {
        "id": "mtjp4yvNAk60"
      }
    },
    {
      "cell_type": "code",
      "source": [
        "#KNN\n",
        "import matplotlib.pyplot as plt\n",
        "%matplotlib inline\n",
        "import sklearn.metrics\n",
        " \n",
        "# explore different values of k\n",
        "k_vals = range(1,41,2)\n",
        "r2_vals = []\n",
        "for k in k_vals:\n",
        "  neigh = neighbors.KNeighborsRegressor(n_neighbors = k ) \n",
        "  neigh.fit(train_data_normalized,train_sln)\n",
        "  predictions = neigh.predict(test_data_normalized)\n",
        "  r2_val = sklearn.metrics.r2_score(test_sln, predictions)\n",
        "  r2_vals.append(r2_val)\n",
        " \n",
        "plt.suptitle('Regression k-NN Results',fontsize=18)\n",
        "plt.xlabel('k')\n",
        "plt.ylabel('r^2 vals')\n",
        "plt.plot(k_vals,r2_vals,'ro-',label='k-NN')\n",
        " \n",
        "plt.legend(loc='lower left', shadow=True)\n",
        "plt.axis([0,35,0,1]) \n",
        "plt.show()\n"
      ],
      "metadata": {
        "colab": {
          "base_uri": "https://localhost:8080/",
          "height": 308
        },
        "id": "yRgaMwm6G7nE",
        "outputId": "7229c525-024a-41e6-b2e5-a1fb68a1a94c"
      },
      "execution_count": null,
      "outputs": [
        {
          "output_type": "display_data",
          "data": {
            "text/plain": [
              "<Figure size 432x288 with 1 Axes>"
            ],
            "image/png": "[encoded data removed]"
          },
          "metadata": {
            "needs_background": "light"
          }
        }
      ]
    },
    {
      "cell_type": "markdown",
      "source": [
        "based off the graphs when my K is at 7 that is peak val, as the K increases we start to see a decline. telling us that our k peak is between 7-10. which is interesting because when I was adjusting the metrics above when i set n= 3 that gave me the highest r^2 value. "
      ],
      "metadata": {
        "id": "ovDbER0wMenS"
      }
    },
    {
      "cell_type": "markdown",
      "source": [
        "- **Initial Models**: Develop basic code for kNN, weighted kNN, and Decision Trees. Make some experiments here, including graphs to help you identify which algorithm and parameters may be best.\n"
      ],
      "metadata": {
        "id": "KUgXptPgfbD5"
      }
    },
    {
      "cell_type": "code",
      "source": [
        "#weighted KNN \n",
        "\n",
        "# w-knn with small k\n",
        "# weighted\n",
        "neigh = neighbors.KNeighborsRegressor(weights = \"distance\", n_neighbors=15)\n",
        "#4. Call fit (to train the classification/regression model)\n",
        "neigh.fit(train_data_normalized,train_sln)\n",
        "#5. Call predict to generate predictions\n",
        "car_prices_predictions = neigh.predict(test_data_normalized)\n",
        "#6. Call a metric function to measure performance\n",
        "\n",
        "print('MSE: ', metrics.mean_squared_error(test_sln, car_prices_predictions))\n",
        "print('r2: ', metrics.r2_score(test_sln, car_prices_predictions))"
      ],
      "metadata": {
        "colab": {
          "base_uri": "https://localhost:8080/"
        },
        "id": "ndQfkdFAap2g",
        "outputId": "79c9b6e1-b351-48db-dee5-79542370ef42"
      },
      "execution_count": null,
      "outputs": [
        {
          "output_type": "stream",
          "name": "stdout",
          "text": [
            "MSE:  21571274.047778044\n",
            "r2:  0.4295393008837708\n"
          ]
        }
      ]
    },
    {
      "cell_type": "markdown",
      "source": [
        "with the weighted algorithm the optimal value is 3 when looking at r^2. when n = a value higher than 5 the r^2 is lower.  "
      ],
      "metadata": {
        "id": "CTG0jFvXBKif"
      }
    },
    {
      "cell_type": "code",
      "source": [
        "#KNN- weighted \n",
        "import matplotlib.pyplot as plt\n",
        "%matplotlib inline\n",
        "import sklearn.metrics\n",
        " \n",
        "# explore different values of k\n",
        "k_vals = range(1,41,2)\n",
        "r2_vals = []\n",
        "for k in k_vals:\n",
        "  neigh = neighbors.KNeighborsRegressor(n_neighbors = k,weights = \"distance\" ) \n",
        "  neigh.fit(train_data_normalized,train_sln)\n",
        "  predictions = neigh.predict(test_data_normalized)\n",
        "  r2_val = sklearn.metrics.r2_score(test_sln, predictions)\n",
        "  r2_vals.append(r2_val)\n",
        " \n",
        "plt.suptitle('weighted k-NN Results',fontsize=18)\n",
        "plt.xlabel('k')\n",
        "plt.ylabel('r^2 val')\n",
        "plt.plot(k_vals,r2_vals,'ro-',label='k-NN')\n",
        " \n",
        "plt.legend(loc='lower left', shadow=True)\n",
        "plt.axis([0,41,0,1]) \n",
        "plt.show()\n"
      ],
      "metadata": {
        "colab": {
          "base_uri": "https://localhost:8080/",
          "height": 308
        },
        "id": "L1np0O3pG36P",
        "outputId": "96054c1f-0ab2-4bf0-8d0d-3b50e02229d1"
      },
      "execution_count": null,
      "outputs": [
        {
          "output_type": "display_data",
          "data": {
            "text/plain": [
              "<Figure size 432x288 with 1 Axes>"
            ],
            "image/png": "[encoded data removed]"
          },
          "metadata": {
            "needs_background": "light"
          }
        }
      ]
    },
    {
      "cell_type": "markdown",
      "source": [
        "analyzing the graph: the graph does look similar to the non weight knn which is not bad. the max depth lies between 7-10 but if I zoom in on the graph it is 7. "
      ],
      "metadata": {
        "id": "AUn8WGMsEky3"
      }
    },
    {
      "cell_type": "code",
      "source": [
        "#decision tree \n",
        "# decision tree with some kind of parameter that (hopefully) results in a smaller tree\n",
        "# decision tree with default paramters\n",
        "#3. Create classifier/regressor object (change these parameters for Exercise #1)\n",
        "dt = tree.DecisionTreeRegressor(random_state = 0, max_depth=5, min_samples_split= 2 ) #If None, then nodes are expanded until all leaves are pure or until all leaves contain less\n",
        "\n",
        "#4. Call fit (to train the classification/regression model)\n",
        "dt.fit(train_data_normalized,train_sln)\n",
        "\n",
        "#5. Call predict to generate predictions\n",
        "car_prices_predictions = dt.predict(test_data_normalized)\n",
        "\n",
        "#6. Call a metric function to measure performance\n",
        "\n",
        "print('MSE: ', metrics.mean_squared_error(test_sln, predictions))\n",
        "print(\"r2\", metrics.r2_score(test_sln,car_prices_predictions))"
      ],
      "metadata": {
        "id": "SBsZD85qbSt8",
        "colab": {
          "base_uri": "https://localhost:8080/"
        },
        "outputId": "fdfc3842-3fa6-4fe0-e291-33d1883b1ce2"
      },
      "execution_count": null,
      "outputs": [
        {
          "output_type": "stream",
          "name": "stdout",
          "text": [
            "MSE:  28072433.0432472\n",
            "r2 0.7851488273530622\n"
          ]
        }
      ]
    },
    {
      "cell_type": "markdown",
      "source": [
        "when looking at the decision tree r^2 metrics they output similar values as the KNN which is something I did not expect because typically the KNN performs a little bit better but it seems with this data set in particular they performed relatively the same. the R^2 does increase after adjusting the max_depth which is good- the more in depth the tree is able to go the more accurate the prediction gets (expected) \n",
        "the MSE is performing overall well and the numbers are accurate based off the data i am analyzing. "
      ],
      "metadata": {
        "id": "Q7_uV5AtFRh4"
      }
    },
    {
      "cell_type": "markdown",
      "source": [
        "- **Fine Tuning**: Create graphs to help you identify the **optimal** values of parameters you wish to use. Utilize different train/test splits. Full credit for thorough testing and documentation.\n"
      ],
      "metadata": {
        "id": "2sVKwkSRfc1g"
      }
    },
    {
      "cell_type": "code",
      "source": [
        "#regression decision tree\n",
        "# explore different values of k\n",
        "import matplotlib.pyplot as plt\n",
        "%matplotlib inline\n",
        "import sklearn.metrics\n",
        "\n",
        "\n",
        "max_dt_vals = range(1,31)\n",
        "r2_vals = []\n",
        "\n",
        "\n",
        "for depth in max_dt_vals:\n",
        "    dt = tree.DecisionTreeRegressor(random_state = 0, max_depth = depth)\n",
        "    dt.fit(train_data_normalized,train_sln)\n",
        "    predictions = dt.predict(test_data_normalized)\n",
        "    r2_val = sklearn.metrics.r2_score(test_sln,predictions)\n",
        "    r2_vals.append(r2_val)\n",
        "    \n",
        "plt.suptitle('Car Pries Max depth Decision Tree Results',fontsize=18)\n",
        "plt.xlabel('max depth')\n",
        "plt.ylabel('dt')\n",
        "plt.plot(max_dt_vals,r2_vals,'ro-',label='r^2 values')\n",
        "plt.legend(loc='lower right', shadow=True)\n",
        "plt.axis([0,31,0,1])\n",
        "plt.show()\n"
      ],
      "metadata": {
        "colab": {
          "base_uri": "https://localhost:8080/",
          "height": 308
        },
        "id": "Fuc1_5fWq2aI",
        "outputId": "7f824c98-027e-404a-8fd2-a1fbc9de2694"
      },
      "execution_count": null,
      "outputs": [
        {
          "output_type": "display_data",
          "data": {
            "text/plain": [
              "<Figure size 432x288 with 1 Axes>"
            ],
            "image/png": "[encoded data removed]"
          },
          "metadata": {
            "needs_background": "light"
          }
        }
      ]
    },
    {
      "cell_type": "markdown",
      "source": [
        "- **Analysis**: What did you determine? What did you notice? How did you identify which learning algorithms you will try and which important parameters you will tune for each one? What is your predictions for the 'competition testing set'."
      ],
      "metadata": {
        "id": "BuAc13cbfeTw"
      }
    },
    {
      "cell_type": "markdown",
      "source": [
        "the graph for the decision tree was different from my other graphs but there is actually a dip in the graph at 7 max depth which is quite interesting because that was the high point for the KNN weighted and non weighted. overall I determined that I think the decision tree performed better in terms of r^2 out put. I tuned the max depth and changed it to 5 which gave me a higher r^2 score. "
      ],
      "metadata": {
        "id": "4WwFSbGbHd0g"
      }
    },
    {
      "cell_type": "markdown",
      "source": [
        "# Part 2: Classification\n",
        "How well can you predict `carbody`?"
      ],
      "metadata": {
        "id": "V66vPg8kI8Ld"
      }
    },
    {
      "cell_type": "markdown",
      "source": [
        "use CONFUSION MATRIX "
      ],
      "metadata": {
        "id": "qsaQdRT6g7xe"
      }
    },
    {
      "cell_type": "markdown",
      "source": [
        "first i start off with cleaning my data and making sure all columns have a value in them- if not replacing them with 0 or 1. I have to do this because i am now doing classification so to start off clean (no pun intended) I want to make sure all the data is ready to go. I also did the similar process of dropping the column 'carname' because it was cluttering the data. "
      ],
      "metadata": {
        "id": "ZLfhtV0KLjpJ"
      }
    },
    {
      "cell_type": "code",
      "source": [
        "car_data_clf = pd.read_csv('/content/drive/MyDrive/CS167DATASETS/CarPricesProject1.csv')\n",
        "car_data_clf.drop(columns=[\"CarName\"],inplace = True)\n",
        "\n",
        "cars_clf = car_data_clf.copy()\n",
        "\n",
        "#cars.drop(columns=[\"CarName\"],inplace = True)\n",
        "\n",
        "\n",
        "symboling_mean = cars_clf['symboling'].mean()\n",
        "cars_clf['symboling'].fillna(symboling_mean, inplace=True)\n",
        "\n",
        "\n",
        "wheelbase_mean = cars_clf['wheelbase'].mean()\n",
        "cars_clf['wheelbase'].fillna(wheelbase_mean, inplace=True)\n",
        "\n",
        "carlength_mean = cars_clf['carlength'].mean()\n",
        "cars_clf['carlength'].fillna(carlength_mean, inplace=True)\n",
        "\n",
        "carwidth_mean = cars_clf['carwidth'].mean()\n",
        "cars_clf['carwidth'].fillna(carwidth_mean, inplace=True)\n",
        "\n",
        "carheight_mean = cars_clf['carheight'].mean()\n",
        "cars_clf['carheight'].fillna(carheight_mean, inplace=True)\n",
        "\n",
        "curbweight_mean = cars_clf['curbweight'].mean()\n",
        "cars_clf['curbweight'].fillna(curbweight_mean, inplace=True)\n",
        "\n",
        "boreratio_mean = cars_clf['boreratio'].mean()\n",
        "cars_clf['boreratio'].fillna(boreratio_mean, inplace=True)\n",
        "\n",
        "stroke_mean = cars_clf['stroke'].mean()\n",
        "cars_clf['stroke'].fillna(stroke_mean, inplace=True)\n",
        "\n",
        "compressionratio_mean = cars_clf['compressionratio'].mean()\n",
        "cars_clf['compressionratio'].fillna(compressionratio_mean, inplace=True)\n",
        "\n",
        "horsepower_mean = cars_clf['horsepower'].mean()\n",
        "cars_clf['horsepower'].fillna(horsepower_mean, inplace=True)\n",
        "\n",
        "peakrpm_mean = cars_clf['peakrpm'].mean()\n",
        "cars_clf['peakrpm'].fillna(peakrpm_mean, inplace=True)\n",
        "\n",
        "citympg_mean = cars_clf['citympg'].mean()\n",
        "cars_clf['citympg'].fillna(citympg_mean, inplace=True)\n",
        "\n",
        "highwaympg_mean = cars_clf['highwaympg'].mean()\n",
        "cars_clf['highwaympg'].fillna(highwaympg_mean, inplace=True)\n",
        "\n",
        "price_mean = cars_clf['price'].mean()\n",
        "cars_clf['price'].fillna(price_mean, inplace=True)\n",
        "\n",
        "#classificationdata \n",
        "cars_clf.dropna(subset=[\"carbody\"],inplace=True)\n",
        "cars_clf = pd.get_dummies(cars_clf, columns=['fueltype', 'aspiration', 'doornumber', 'doornumber','price','drivewheel','enginelocation','enginetype', 'cylindernumber','enginesize','fuelsystem'])\n",
        "\n",
        "\n",
        "print(cars_clf.isna().any())\n",
        "\n"
      ],
      "metadata": {
        "colab": {
          "base_uri": "https://localhost:8080/"
        },
        "id": "CQJ43h8ozuN9",
        "outputId": "85af5301-172f-4d0a-d474-48081d7efc62"
      },
      "execution_count": null,
      "outputs": [
        {
          "output_type": "stream",
          "name": "stdout",
          "text": [
            "symboling          False\n",
            "carbody            False\n",
            "wheelbase          False\n",
            "carlength          False\n",
            "carwidth           False\n",
            "                   ...  \n",
            "fuelsystem_idi     False\n",
            "fuelsystem_mfi     False\n",
            "fuelsystem_mpfi    False\n",
            "fuelsystem_spdi    False\n",
            "fuelsystem_spfi    False\n",
            "Length: 280, dtype: bool\n"
          ]
        }
      ]
    },
    {
      "cell_type": "code",
      "source": [
        "target_value_clf = 'carbody'\n",
        "predictors_clf = cars_clf.columns.drop(target_value_clf) \n",
        "train_data, test_data, train_sln, test_sln = train_test_split(cars_clf[predictors_clf], cars_clf[target_value_clf], test_size = 0.2, random_state=41)\n",
        "train_data.head()"
      ],
      "metadata": {
        "colab": {
          "base_uri": "https://localhost:8080/",
          "height": 300
        },
        "id": "OKiqLMidGKIk",
        "outputId": "dc81c1fa-47e3-4cfd-c909-b1cdaa3cc50e"
      },
      "execution_count": null,
      "outputs": [
        {
          "output_type": "execute_result",
          "data": {
            "text/plain": [
              "     symboling  wheelbase  carlength  carwidth  carheight  curbweight  \\\n",
              "190        3.0       94.5      165.7      64.0       51.4      2221.0   \n",
              "107        0.0      107.9      186.7      68.4       56.7      3020.0   \n",
              "83         3.0       95.9      173.2      66.3       50.2      2921.0   \n",
              "154        0.0       95.7      169.7      63.6       59.1      2290.0   \n",
              "23         1.0       93.7      157.3      63.8       50.8      2128.0   \n",
              "\n",
              "     boreratio  stroke  compressionratio  horsepower  ...  enginesize_308.0  \\\n",
              "190       3.19    3.40               8.5        90.0  ...                 0   \n",
              "107       3.46    3.19               8.4        97.0  ...                 0   \n",
              "83        3.59    3.86               7.0       145.0  ...                 0   \n",
              "154       3.05    3.03               9.0        62.0  ...                 0   \n",
              "23        3.03    3.39               7.6       102.0  ...                 0   \n",
              "\n",
              "     enginesize_326.0  fuelsystem_1bbl  fuelsystem_2bbl  fuelsystem_4bbl  \\\n",
              "190                 0                0                0                0   \n",
              "107                 0                0                0                0   \n",
              "83                  0                0                0                0   \n",
              "154                 0                0                1                0   \n",
              "23                  0                0                0                0   \n",
              "\n",
              "     fuelsystem_idi  fuelsystem_mfi  fuelsystem_mpfi  fuelsystem_spdi  \\\n",
              "190               0               0                1                0   \n",
              "107               0               0                1                0   \n",
              "83                0               0                0                1   \n",
              "154               0               0                0                0   \n",
              "23                0               0                1                0   \n",
              "\n",
              "     fuelsystem_spfi  \n",
              "190                0  \n",
              "107                0  \n",
              "83                 0  \n",
              "154                0  \n",
              "23                 0  \n",
              "\n",
              "[5 rows x 283 columns]"
            ],
            "text/html": [
              "\n",
              "  <div id=\"df-47a95a50-dea0-44a1-90f6-48b72fef079c\">\n",
              "    <div class=\"colab-df-container\">\n",
              "      <div>\n",
              "<style scoped>\n",
              "    .dataframe tbody tr th:only-of-type {\n",
              "        vertical-align: middle;\n",
              "    }\n",
              "\n",
              "    .dataframe tbody tr th {\n",
              "        vertical-align: top;\n",
              "    }\n",
              "\n",
              "    .dataframe thead th {\n",
              "        text-align: right;\n",
              "    }\n",
              "</style>\n",
              "<table border=\"1\" class=\"dataframe\">\n",
              "  <thead>\n",
              "    <tr style=\"text-align: right;\">\n",
              "      <th></th>\n",
              "      <th>symboling</th>\n",
              "      <th>wheelbase</th>\n",
              "      <th>carlength</th>\n",
              "      <th>carwidth</th>\n",
              "      <th>carheight</th>\n",
              "      <th>curbweight</th>\n",
              "      <th>boreratio</th>\n",
              "      <th>stroke</th>\n",
              "      <th>compressionratio</th>\n",
              "      <th>horsepower</th>\n",
              "      <th>...</th>\n",
              "      <th>enginesize_308.0</th>\n",
              "      <th>enginesize_326.0</th>\n",
              "      <th>fuelsystem_1bbl</th>\n",
              "      <th>fuelsystem_2bbl</th>\n",
              "      <th>fuelsystem_4bbl</th>\n",
              "      <th>fuelsystem_idi</th>\n",
              "      <th>fuelsystem_mfi</th>\n",
              "      <th>fuelsystem_mpfi</th>\n",
              "      <th>fuelsystem_spdi</th>\n",
              "      <th>fuelsystem_spfi</th>\n",
              "    </tr>\n",
              "  </thead>\n",
              "  <tbody>\n",
              "    <tr>\n",
              "      <th>190</th>\n",
              "      <td>3.0</td>\n",
              "      <td>94.5</td>\n",
              "      <td>165.7</td>\n",
              "      <td>64.0</td>\n",
              "      <td>51.4</td>\n",
              "      <td>2221.0</td>\n",
              "      <td>3.19</td>\n",
              "      <td>3.40</td>\n",
              "      <td>8.5</td>\n",
              "      <td>90.0</td>\n",
              "      <td>...</td>\n",
              "      <td>0</td>\n",
              "      <td>0</td>\n",
              "      <td>0</td>\n",
              "      <td>0</td>\n",
              "      <td>0</td>\n",
              "      <td>0</td>\n",
              "      <td>0</td>\n",
              "      <td>1</td>\n",
              "      <td>0</td>\n",
              "      <td>0</td>\n",
              "    </tr>\n",
              "    <tr>\n",
              "      <th>107</th>\n",
              "      <td>0.0</td>\n",
              "      <td>107.9</td>\n",
              "      <td>186.7</td>\n",
              "      <td>68.4</td>\n",
              "      <td>56.7</td>\n",
              "      <td>3020.0</td>\n",
              "      <td>3.46</td>\n",
              "      <td>3.19</td>\n",
              "      <td>8.4</td>\n",
              "      <td>97.0</td>\n",
              "      <td>...</td>\n",
              "      <td>0</td>\n",
              "      <td>0</td>\n",
              "      <td>0</td>\n",
              "      <td>0</td>\n",
              "      <td>0</td>\n",
              "      <td>0</td>\n",
              "      <td>0</td>\n",
              "      <td>1</td>\n",
              "      <td>0</td>\n",
              "      <td>0</td>\n",
              "    </tr>\n",
              "    <tr>\n",
              "      <th>83</th>\n",
              "      <td>3.0</td>\n",
              "      <td>95.9</td>\n",
              "      <td>173.2</td>\n",
              "      <td>66.3</td>\n",
              "      <td>50.2</td>\n",
              "      <td>2921.0</td>\n",
              "      <td>3.59</td>\n",
              "      <td>3.86</td>\n",
              "      <td>7.0</td>\n",
              "      <td>145.0</td>\n",
              "      <td>...</td>\n",
              "      <td>0</td>\n",
              "      <td>0</td>\n",
              "      <td>0</td>\n",
              "      <td>0</td>\n",
              "      <td>0</td>\n",
              "      <td>0</td>\n",
              "      <td>0</td>\n",
              "      <td>0</td>\n",
              "      <td>1</td>\n",
              "      <td>0</td>\n",
              "    </tr>\n",
              "    <tr>\n",
              "      <th>154</th>\n",
              "      <td>0.0</td>\n",
              "      <td>95.7</td>\n",
              "      <td>169.7</td>\n",
              "      <td>63.6</td>\n",
              "      <td>59.1</td>\n",
              "      <td>2290.0</td>\n",
              "      <td>3.05</td>\n",
              "      <td>3.03</td>\n",
              "      <td>9.0</td>\n",
              "      <td>62.0</td>\n",
              "      <td>...</td>\n",
              "      <td>0</td>\n",
              "      <td>0</td>\n",
              "      <td>0</td>\n",
              "      <td>1</td>\n",
              "      <td>0</td>\n",
              "      <td>0</td>\n",
              "      <td>0</td>\n",
              "      <td>0</td>\n",
              "      <td>0</td>\n",
              "      <td>0</td>\n",
              "    </tr>\n",
              "    <tr>\n",
              "      <th>23</th>\n",
              "      <td>1.0</td>\n",
              "      <td>93.7</td>\n",
              "      <td>157.3</td>\n",
              "      <td>63.8</td>\n",
              "      <td>50.8</td>\n",
              "      <td>2128.0</td>\n",
              "      <td>3.03</td>\n",
              "      <td>3.39</td>\n",
              "      <td>7.6</td>\n",
              "      <td>102.0</td>\n",
              "      <td>...</td>\n",
              "      <td>0</td>\n",
              "      <td>0</td>\n",
              "      <td>0</td>\n",
              "      <td>0</td>\n",
              "      <td>0</td>\n",
              "      <td>0</td>\n",
              "      <td>0</td>\n",
              "      <td>1</td>\n",
              "      <td>0</td>\n",
              "      <td>0</td>\n",
              "    </tr>\n",
              "  </tbody>\n",
              "</table>\n",
              "<p>5 rows × 283 columns</p>\n",
              "</div>\n",
              "      <button class=\"colab-df-convert\" onclick=\"convertToInteractive('df-47a95a50-dea0-44a1-90f6-48b72fef079c')\"\n",
              "              title=\"Convert this dataframe to an interactive table.\"\n",
              "              style=\"display:none;\">\n",
              "        \n",
              "  <svg xmlns=\"http://www.w3.org/2000/svg\" height=\"24px\"viewBox=\"0 0 24 24\"\n",
              "       width=\"24px\">\n",
              "    <path d=\"M0 0h24v24H0V0z\" fill=\"none\"/>\n",
              "    <path d=\"M18.56 5.44l.94 2.06.94-2.06 2.06-.94-2.06-.94-.94-2.06-.94 2.06-2.06.94zm-11 1L8.5 8.5l.94-2.06 2.06-.94-2.06-.94L8.5 2.5l-.94 2.06-2.06.94zm10 10l.94 2.06.94-2.06 2.06-.94-2.06-.94-.94-2.06-.94 2.06-2.06.94z\"/><path d=\"M17.41 7.96l-1.37-1.37c-.4-.4-.92-.59-1.43-.59-.52 0-1.04.2-1.43.59L10.3 9.45l-7.72 7.72c-.78.78-.78 2.05 0 2.83L4 21.41c.39.39.9.59 1.41.59.51 0 1.02-.2 1.41-.59l7.78-7.78 2.81-2.81c.8-.78.8-2.07 0-2.86zM5.41 20L4 18.59l7.72-7.72 1.47 1.35L5.41 20z\"/>\n",
              "  </svg>\n",
              "      </button>\n",
              "      \n",
              "  <style>\n",
              "    .colab-df-container {\n",
              "      display:flex;\n",
              "      flex-wrap:wrap;\n",
              "      gap: 12px;\n",
              "    }\n",
              "\n",
              "    .colab-df-convert {\n",
              "      background-color: #E8F0FE;\n",
              "      border: none;\n",
              "      border-radius: 50%;\n",
              "      cursor: pointer;\n",
              "      display: none;\n",
              "      fill: #1967D2;\n",
              "      height: 32px;\n",
              "      padding: 0 0 0 0;\n",
              "      width: 32px;\n",
              "    }\n",
              "\n",
              "    .colab-df-convert:hover {\n",
              "      background-color: #E2EBFA;\n",
              "      box-shadow: 0px 1px 2px rgba(60, 64, 67, 0.3), 0px 1px 3px 1px rgba(60, 64, 67, 0.15);\n",
              "      fill: #174EA6;\n",
              "    }\n",
              "\n",
              "    [theme=dark] .colab-df-convert {\n",
              "      background-color: #3B4455;\n",
              "      fill: #D2E3FC;\n",
              "    }\n",
              "\n",
              "    [theme=dark] .colab-df-convert:hover {\n",
              "      background-color: #434B5C;\n",
              "      box-shadow: 0px 1px 3px 1px rgba(0, 0, 0, 0.15);\n",
              "      filter: drop-shadow(0px 1px 2px rgba(0, 0, 0, 0.3));\n",
              "      fill: #FFFFFF;\n",
              "    }\n",
              "  </style>\n",
              "\n",
              "      <script>\n",
              "        const buttonEl =\n",
              "          document.querySelector('#df-47a95a50-dea0-44a1-90f6-48b72fef079c button.colab-df-convert');\n",
              "        buttonEl.style.display =\n",
              "          google.colab.kernel.accessAllowed ? 'block' : 'none';\n",
              "\n",
              "        async function convertToInteractive(key) {\n",
              "          const element = document.querySelector('#df-47a95a50-dea0-44a1-90f6-48b72fef079c');\n",
              "          const dataTable =\n",
              "            await google.colab.kernel.invokeFunction('convertToInteractive',\n",
              "                                                     [key], {});\n",
              "          if (!dataTable) return;\n",
              "\n",
              "          const docLinkHtml = 'Like what you see? Visit the ' +\n",
              "            '<a target=\"_blank\" href=https://colab.research.google.com/notebooks/data_table.ipynb>data table notebook</a>'\n",
              "            + ' to learn more about interactive tables.';\n",
              "          element.innerHTML = '';\n",
              "          dataTable['output_type'] = 'display_data';\n",
              "          await google.colab.output.renderOutput(dataTable, element);\n",
              "          const docLink = document.createElement('div');\n",
              "          docLink.innerHTML = docLinkHtml;\n",
              "          element.appendChild(docLink);\n",
              "        }\n",
              "      </script>\n",
              "    </div>\n",
              "  </div>\n",
              "  "
            ]
          },
          "metadata": {},
          "execution_count": 17
        }
      ]
    },
    {
      "cell_type": "code",
      "source": [
        "#normalize data  \n",
        "from sklearn.preprocessing import StandardScaler\n",
        "scaler = StandardScaler()\n",
        "scaler.fit(train_data)\n",
        "train_data_normalized_clf = scaler.transform(train_data)\n",
        "test_data_normalized_clf = scaler.transform(test_data)"
      ],
      "metadata": {
        "id": "LZFNRfxRR0q_"
      },
      "execution_count": null,
      "outputs": []
    },
    {
      "cell_type": "markdown",
      "source": [
        "data has been normalized "
      ],
      "metadata": {
        "id": "lCs_-md2M92H"
      }
    },
    {
      "cell_type": "markdown",
      "source": [
        "- **Metrics**: Identify which metrics you will be using to test your model, and say why they are appropriate. Identify a baseline for your metrics - what would you expect to happen with this particular data if you always guessed the average or if you guessed randomly?\n"
      ],
      "metadata": {
        "id": "40_i2vfNfjfi"
      }
    },
    {
      "cell_type": "markdown",
      "source": [
        "Metrics: accuracy\n",
        "Accuracy is the appropriate metric because it is a good metric to use when using classification and to print out the most accurate column for the carbody. since we are working with categorical data using this metric would be a better output rather than just randomly guessing."
      ],
      "metadata": {
        "id": "IC5BjvGf4r-o"
      }
    },
    {
      "cell_type": "markdown",
      "source": [
        "- **Initial Models**: Develop basic code for kNN, weighted kNN, and Decision Trees. Make some experiments here, including graphs to help you identify which algorithm and parameters may be best.\n"
      ],
      "metadata": {
        "id": "Mhfl0tu4fnI_"
      }
    },
    {
      "cell_type": "code",
      "source": [
        "#KNN Classification \n",
        "#KNN \n",
        "from sklearn import neighbors\n",
        "from sklearn import metrics\n",
        "\n",
        "# create our model\n",
        "neigh = neighbors.KNeighborsClassifier( n_neighbors = 10) ### Don't miss this! Doing Regression here!!\n",
        "\n",
        "# fit (train) the model to the data\n",
        "neigh.fit(train_data_normalized_clf, train_sln)\n",
        "\n",
        "# use the trained model to get predictions from our test_data\n",
        "predictions = neigh.predict(test_data)\n",
        "\n",
        "\n",
        "# use a metric to see how good our predictions are; Don't miss this! Using Regression metrics here!!\n",
        "print('acc: ', metrics.accuracy_score(test_sln, predictions))\n"
      ],
      "metadata": {
        "id": "AzwB_xOzTQga",
        "colab": {
          "base_uri": "https://localhost:8080/"
        },
        "outputId": "b21820be-c6c2-49a4-ddcc-247eb2d9abe8"
      },
      "execution_count": null,
      "outputs": [
        {
          "output_type": "stream",
          "name": "stdout",
          "text": [
            "acc:  0.4634146341463415\n"
          ]
        },
        {
          "output_type": "stream",
          "name": "stderr",
          "text": [
            "/usr/local/lib/python3.7/dist-packages/sklearn/base.py:444: UserWarning: X has feature names, but KNeighborsClassifier was fitted without feature names\n",
            "  f\"X has feature names, but {self.__class__.__name__} was fitted without\"\n"
          ]
        }
      ]
    },
    {
      "cell_type": "markdown",
      "source": [
        "when the neighbors is 3 acc = .12 \n",
        "when the neighbors is 6 acc = .0731\n",
        "when the neighbors is 10 acc = .46\n",
        "so with a little tuning of the parameters i got the accuracy to raise a little bit higher which is good. "
      ],
      "metadata": {
        "id": "Ic_0AXn8NT7y"
      }
    },
    {
      "cell_type": "code",
      "source": [
        "#KNN classification\n",
        "import matplotlib.pyplot as plt\n",
        "%matplotlib inline\n",
        "import sklearn.metrics\n",
        " \n",
        "# explore different values of k\n",
        "k_vals = range(1,41,2)\n",
        "accuracies=[]\n",
        "for k in k_vals:\n",
        "  neigh = neighbors.KNeighborsClassifier(n_neighbors = k) \n",
        "  neigh.fit(train_data_normalized_clf,train_sln)\n",
        "  predictions = neigh.predict(test_data_normalized_clf)\n",
        "  acc = sklearn.metrics.accuracy_score(test_sln, predictions)\n",
        "  accuracies.append(acc)\n",
        "\n",
        "plt.suptitle('Classified k-NN Results',fontsize=18)\n",
        "plt.xlabel('k')\n",
        "plt.ylabel('none-weighted KNN')\n",
        "plt.plot(k_vals,accuracies,'ro-',label='k-NN')\n",
        " \n",
        "plt.legend(loc='lower left', shadow=True)\n",
        "plt.axis([0,40,0,1]) \n",
        "plt.show()"
      ],
      "metadata": {
        "colab": {
          "base_uri": "https://localhost:8080/",
          "height": 308
        },
        "id": "Ij8yR092zc7S",
        "outputId": "b91e7a59-0f0d-4e07-a30c-287f8c648a04"
      },
      "execution_count": null,
      "outputs": [
        {
          "output_type": "display_data",
          "data": {
            "text/plain": [
              "<Figure size 432x288 with 1 Axes>"
            ],
            "image/png": "[encoded data removed]"
          },
          "metadata": {
            "needs_background": "light"
          }
        }
      ]
    },
    {
      "cell_type": "markdown",
      "source": [
        "- **Fine Tuning**: Create graphs to help you identify the **optimal** values of parameters you wish to use. Utilize different train/test splits. Full credit for thorough testing and documentation.\n"
      ],
      "metadata": {
        "id": "abe3P_8ofpD6"
      }
    },
    {
      "cell_type": "markdown",
      "source": [
        "optimal value for this based off the graph is ranging 15 or 16. when i adjusted the parameters to the optimal values the accuracy actully declined so that was interesting to analyze that when testing it my optimal value may have been 9 or 10. "
      ],
      "metadata": {
        "id": "IPibF1hgOKlB"
      }
    },
    {
      "cell_type": "code",
      "source": [
        "#weighted KNN \n",
        "\n",
        "# w-knn with small k\n",
        "# weighted\n",
        "neigh = neighbors.KNeighborsClassifier(weights = \"distance\", n_neighbors=5)\n",
        "#4. Call fit (to train the classification/regression model)\n",
        "neigh.fit(train_data_normalized_clf,train_sln)\n",
        "#5. Call predict to generate predictions\n",
        "car_prices_predictions = neigh.predict(test_data_normalized_clf)\n",
        "#6. Call a metric function to measure performance\n",
        "print('acc: ', metrics.accuracy_score(test_sln, predictions))\n",
        "\n"
      ],
      "metadata": {
        "colab": {
          "base_uri": "https://localhost:8080/"
        },
        "id": "ghn7k10eO6yB",
        "outputId": "16b4463d-5b99-402c-b9c2-77fea114b910"
      },
      "execution_count": null,
      "outputs": [
        {
          "output_type": "stream",
          "name": "stdout",
          "text": [
            "acc:  0.5121951219512195\n"
          ]
        }
      ]
    },
    {
      "cell_type": "markdown",
      "source": [
        "the peak accuracy was .46 which is when my n_neighbors is set to 3. I was expecting it to be a little bit lower because the values are weighted on the same scale so I was suprised when the output was pretty much the same. "
      ],
      "metadata": {
        "id": "unTpbr4JSnig"
      }
    },
    {
      "cell_type": "code",
      "source": [
        "#KNN- weighted \n",
        "import matplotlib.pyplot as plt\n",
        "%matplotlib inline\n",
        "import sklearn.metrics\n",
        " \n",
        "# explore different values of k\n",
        "k_vals = range(1,41,2)\n",
        "accuracies=[]\n",
        "for k in k_vals:\n",
        "  neigh = neighbors.KNeighborsClassifier(n_neighbors = k,weights = \"distance\" ) \n",
        "  neigh.fit(train_data_normalized_clf,train_sln)\n",
        "  predictions = neigh.predict(test_data_normalized_clf)\n",
        "  acc = sklearn.metrics.accuracy_score(test_sln, predictions)\n",
        "  accuracies.append(acc)\n",
        "\n",
        "plt.suptitle('Classified weighted k-NN Results',fontsize=18)\n",
        "plt.xlabel('k')\n",
        "plt.ylabel('weighted')\n",
        "plt.plot(k_vals,accuracies,'ro-',label='k-NN')\n",
        " \n",
        "plt.legend(loc='lower left', shadow=True)\n",
        "plt.axis([0,40,0,1]) \n",
        "plt.show()"
      ],
      "metadata": {
        "colab": {
          "base_uri": "https://localhost:8080/",
          "height": 308
        },
        "id": "ygmp0UwlsleD",
        "outputId": "b79ebd71-2dd9-40ee-f289-60ee348f61fa"
      },
      "execution_count": null,
      "outputs": [
        {
          "output_type": "display_data",
          "data": {
            "text/plain": [
              "<Figure size 432x288 with 1 Axes>"
            ],
            "image/png": "[encoded data removed]"
          },
          "metadata": {
            "needs_background": "light"
          }
        }
      ]
    },
    {
      "cell_type": "markdown",
      "source": [
        "what I determined was that both the weighted and non weighted were giving similar outputs which is good because at least the data is balanced and more accurate this gives a better look at what my optimal values are when analyzing the dataset. i identified that I will be using the weighted nearest neighbors because it gave me the best outcome as for the parameters I adjust it was just the n_neighbors because so far it has given me the best accuracy output. my prediction for the competition set would be that the decision tree will still outperform the knn algorithm in classification. "
      ],
      "metadata": {
        "id": "i9N9xDJ1T7cL"
      }
    },
    {
      "cell_type": "markdown",
      "source": [
        "- **Analysis**: What did you determine? What did you notice? How did you identify which learning algorithms you will try and which important parameters you will tune for each one? What is your predictions for the 'competition testing set'."
      ],
      "metadata": {
        "id": "r2K1siBQfqXZ"
      }
    },
    {
      "cell_type": "markdown",
      "source": [
        "*don't forget to print out a confusion matrix*"
      ],
      "metadata": {
        "id": "WubWwdQTgEQD"
      }
    },
    {
      "cell_type": "code",
      "source": [
        "from sklearn.metrics._plot.confusion_matrix import confusion_matrix\n",
        "carbody_labels = ['convertible','hardtop','hatchback', 'sedan','wagon']\n",
        "conf_matrix = metrics.confusion_matrix(test_sln,predictions, labels = carbody_labels)\n",
        "print(pd.DataFrame(conf_matrix,index = carbody_labels, columns = carbody_labels))"
      ],
      "metadata": {
        "colab": {
          "base_uri": "https://localhost:8080/"
        },
        "id": "juDcVXAVmhWW",
        "outputId": "13ea62c9-8deb-4385-8836-7af66e342b61"
      },
      "execution_count": null,
      "outputs": [
        {
          "output_type": "stream",
          "name": "stdout",
          "text": [
            "             convertible  hardtop  hatchback  sedan  wagon\n",
            "convertible            0        1          1      0      0\n",
            "hardtop                0        2          0      0      0\n",
            "hatchback              0        2         13      1      0\n",
            "sedan                  1        0          2     13      0\n",
            "wagon                  0        0          0      1      4\n"
          ]
        }
      ]
    },
    {
      "cell_type": "markdown",
      "source": [
        "this confusion matrix is showing me that the the hatchback and sedan have the most that are predicted to be true with the wagon coming in 3rd... this is important because it helps me visualize important analysis about the data. it gives me direct understanding about true positives, false positives etc. they are also accurate and precise which is helpful in this case. the confusion matrix also gives an adequate evaluation of the classification model overall, so when the matrix makes a prediction on the data it gives an accurate prediction on the test data and shows me how well my classification model is. "
      ],
      "metadata": {
        "id": "cub9l6zgW58h"
      }
    },
    {
      "cell_type": "code",
      "source": [
        "# decision tree with default paramters\n",
        "#3. Create classifier/regressor object (change these parameters for Exercise #1)\n",
        "dt = tree.DecisionTreeClassifier() #If None, then nodes are expanded until all leaves are pure or until all leaves contain less\n",
        "\n",
        "#4. Call fit (to train the classification/regression model)\n",
        "dt.fit(train_data_normalized_clf,train_sln)\n",
        "\n",
        "#5. Call predict to generate predictions\n",
        "car_prices_predictions = dt.predict(test_data_normalized_clf)\n",
        "\n",
        "#6. Call a metric function to measure performance\n",
        "print('acc: ', metrics.accuracy_score(test_sln, predictions))\n"
      ],
      "metadata": {
        "colab": {
          "base_uri": "https://localhost:8080/"
        },
        "id": "5JrUfwockkRl",
        "outputId": "6002a24d-ffe5-4706-effa-9822b1475d2e"
      },
      "execution_count": null,
      "outputs": [
        {
          "output_type": "stream",
          "name": "stdout",
          "text": [
            "acc:  0.7560975609756098\n"
          ]
        }
      ]
    },
    {
      "cell_type": "markdown",
      "source": [
        "as predicted the decision tree gave me the most accurate out come. since the accuracy range is around 70-90% the decision tree performed well! i found it to perform best when I was not calling any parameters/ran relatively the same with max_depth parameters set. "
      ],
      "metadata": {
        "id": "y8PNxW7VX7Ju"
      }
    },
    {
      "cell_type": "code",
      "source": [
        "#DECISION TREE GRAPH \n",
        "#classification decision tree\n",
        "# explore different values of k\n",
        "import matplotlib.pyplot as plt\n",
        "%matplotlib inline\n",
        "import sklearn.metrics\n",
        "\n",
        "\n",
        "max_dt_vals = range(1,40,2)\n",
        "accuracies = []\n",
        "\n",
        "for dt in max_dt_vals:\n",
        "    dt = tree.DecisionTreeClassifier( max_depth = dt)\n",
        "    dt.fit(train_data_normalized_clf,train_sln)\n",
        "    predictions = dt.predict(test_data_normalized_clf)\n",
        "    acc = sklearn.metrics.accuracy_score(test_sln, predictions)\n",
        "    accuracies.append(acc)\n",
        "\n",
        "plt.suptitle('Car Body Decision Tree Results',fontsize=18)\n",
        "plt.xlabel('max depth')\n",
        "plt.ylabel('dt accuracy')\n",
        "plt.plot(max_dt_vals,accuracies,'ro-',label='accuracy dt values')\n",
        "plt.legend(loc='lower right', shadow=True)\n",
        "plt.axis([0,41,0,1])\n",
        "plt.show()"
      ],
      "metadata": {
        "colab": {
          "base_uri": "https://localhost:8080/",
          "height": 308
        },
        "id": "uzm4tIFmzRz0",
        "outputId": "6d7e6af9-8d95-421d-8490-ffda14872c66"
      },
      "execution_count": null,
      "outputs": [
        {
          "output_type": "display_data",
          "data": {
            "text/plain": [
              "<Figure size 432x288 with 1 Axes>"
            ],
            "image/png": "[encoded data removed]"
          },
          "metadata": {
            "needs_background": "light"
          }
        }
      ]
    },
    {
      "cell_type": "markdown",
      "source": [
        "# Part 3: Conclusions"
      ],
      "metadata": {
        "id": "iTyI7qqXJSBP"
      }
    },
    {
      "cell_type": "markdown",
      "source": [
        "**Bumps in the Road**: What challenges did you encounter? How did you overcome these challenges? Did you have to adapt your strategy to account for these challenges? Why or why not?\n"
      ],
      "metadata": {
        "id": "jHVoNCBogTRB"
      }
    },
    {
      "cell_type": "markdown",
      "source": [
        "Some of the challenges I have encountered while working on the project: adjusting my graphs to print out the right metrics for my normalized data and training data. I overcame this challenge by utilizing classroom material to help me visualize what I need to change to make my graphs work properly. It was like putting a puzzle together because I was trying to figure out where each line of code goes and what parameters to put in to give the most optimal output. While doing this project I found myself adapting that strategy to every section I was doing, adjusting the code and looking at the output I was getting and changing it to see how I can change it to give me a better out put.\n",
        "\n",
        "Another bump I hit in the road was determining which graph was performing better (knn or non weighted) because it kind of confused me when they iniatially printed because they looked relatively similar so I was not sure which one was working better. I overcame this bump in the road by asking for help, and getting clarification that it is good that the graphs are giving similar output."
      ],
      "metadata": {
        "id": "geOX28VcmZh8"
      }
    },
    {
      "cell_type": "markdown",
      "source": [
        "**Conclusions:** What insights/recommendations do you have? What did you find that was interesting? Which model was your best model, which models didn't work well? Why do you think this is? In general, I want a discussion of your experiment, the results, and what they mean."
      ],
      "metadata": {
        "id": "Hn9jY5BagYNN"
      }
    },
    {
      "cell_type": "markdown",
      "source": [
        "Some recommendations I have is trying as many metrics and making various adjustments to your model to see which outcome would prove to be the best, and so visually you can see your data and how it is performing (you can see the changes you need to make). I found interesting that in both the regression and the classification model the decision tree kind of out performed kNN, that was unexpected and I did not think that would be the case, at least for regression. I think between the two I got better results with my classification model, but the regression model was working just as well graphical. I think that both pulled their own weight and gave me pretty good results across the board. In the case of classification though \n",
        "my accuracy was higher and my decision graphs were giving me better output as well which is something I was kind of surprised by but overall it worked out well. But with my regression model my KNN graphs were giving me optimal output which was overall good for predictive modeling. \n"
      ],
      "metadata": {
        "id": "KigMMo1HnIVK"
      }
    }
  ]
}