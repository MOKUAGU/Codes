{
  "nbformat": 4,
  "nbformat_minor": 0,
  "metadata": {
    "colab": {
      "provenance": [],
      "include_colab_link": true
    },
    "kernelspec": {
      "name": "python3",
      "display_name": "Python 3"
    },
    "language_info": {
      "name": "python"
    }
  },
  "cells": [
    {
      "cell_type": "markdown",
      "metadata": {
        "id": "view-in-github",
        "colab_type": "text"
      },
      "source": [
        "<a href=\"https://colab.research.google.com/github/MOKUAGU/Codes/blob/main/Copy_of_Notebook3.ipynb\" target=\"_parent\"><img src=\"https://colab.research.google.com/assets/colab-badge.svg\" alt=\"Open In Colab\"/></a>"
      ]
    },
    {
      "cell_type": "markdown",
      "source": [
        "# Notebook #3: Cross Validation with kNN and Wine Ratings\n",
        "**Name: Munachi Okuagu**\n"
      ],
      "metadata": {
        "id": "6p6Gf9wQNv_f"
      }
    },
    {
      "cell_type": "markdown",
      "source": [
        "Prepare the data"
      ],
      "metadata": {
        "id": "diNiU6_kN5se"
      }
    },
    {
      "cell_type": "code",
      "source": [
        "import pandas\n",
        "import numpy\n",
        "from google.colab import drive \n",
        "drive.mount('/content/drive')"
      ],
      "metadata": {
        "id": "kf1k35nmN15u",
        "colab": {
          "base_uri": "https://localhost:8080/"
        },
        "outputId": "6c699c62-b0bd-4496-c881-963776012ac3"
      },
      "execution_count": null,
      "outputs": [
        {
          "output_type": "stream",
          "name": "stdout",
          "text": [
            "Mounted at /content/drive\n"
          ]
        }
      ]
    },
    {
      "cell_type": "code",
      "source": [
        "# change the path so to access the data on your drive \n",
        "wine_data = pandas.read_csv('/content/drive/MyDrive/CS167DATASETS/winequality-white.csv')"
      ],
      "metadata": {
        "id": "NU2OlQdUN7hg"
      },
      "execution_count": null,
      "outputs": []
    },
    {
      "cell_type": "markdown",
      "source": [
        "# Exercise #1. \n",
        "Implement mean squared error (mse) algorithm"
      ],
      "metadata": {
        "id": "y0y8sj-TOwlA"
      }
    },
    {
      "cell_type": "code",
      "source": [
        "import math\n",
        "def mse(actual,predicted):\n",
        "    # INPUT: \n",
        "    #   actual: a list of values\n",
        "    #   predicted: a list of value\n",
        "    #   (we assume that number of elements in actual and predicted match)\n",
        "    # OUTPUT: \n",
        "    #   the mean absolute error between the actual and predicted values\n",
        "    total = 0\n",
        "    for i in range(len(actual)):\n",
        "      total += (actual.iloc[i] - predicted.iloc[i])**2 #does this have to be squared the MSE equation? \n",
        "    return total/len(actual)"
      ],
      "metadata": {
        "id": "lKq5w184O8Zc"
      },
      "execution_count": null,
      "outputs": []
    },
    {
      "cell_type": "markdown",
      "source": [
        "# Exercise #2\n",
        "Implement the testing and training data. Use the approximately the first 320 rows in the shuffled set as testing data. "
      ],
      "metadata": {
        "id": "mvJxkj41PkIf"
      }
    },
    {
      "cell_type": "code",
      "source": [
        "# change the path so to access the data on your drive \n",
        "wine_data = pandas.read_csv('/content/drive/MyDrive/CS167DATASETS/winequality-white.csv')\n",
        "\n",
        "\n",
        "shuffled_data = wine_data.sample(frac=1, random_state=41)\n",
        "test_data = shuffled_data.iloc[0:319]\n",
        "train_data = shuffled_data [319:]\n",
        "#319 or 320? \n",
        "\n",
        "print(\"testing data shape\", test_data.shape)\n",
        "test_data\n",
        "# establish test_data and train_data here"
      ],
      "metadata": {
        "id": "oyoxRCKmPtE4",
        "colab": {
          "base_uri": "https://localhost:8080/",
          "height": 503
        },
        "outputId": "ff0baa88-b0b8-4dc8-83e9-49cab7b8465a"
      },
      "execution_count": null,
      "outputs": [
        {
          "output_type": "stream",
          "name": "stdout",
          "text": [
            "testing data shape (319, 12)\n"
          ]
        },
        {
          "output_type": "execute_result",
          "data": {
            "text/plain": [
              "      fixed acidity  volatile acidity  citric acid  residual sugar  chlorides  \\\n",
              "635             8.7              0.84         0.00             1.4      0.065   \n",
              "581            12.3              0.50         0.49             2.2      0.089   \n",
              "206            12.8              0.30         0.74             2.6      0.095   \n",
              "547            10.6              0.31         0.49             2.5      0.067   \n",
              "1515            6.9              0.84         0.21             4.1      0.074   \n",
              "...             ...               ...          ...             ...        ...   \n",
              "186             7.4              0.39         0.48             2.0      0.082   \n",
              "1308            9.7              0.69         0.32             2.5      0.088   \n",
              "1043            9.5              0.39         0.41             8.9      0.069   \n",
              "726             8.1              0.72         0.09             2.8      0.084   \n",
              "508            10.0              0.59         0.31             2.2      0.090   \n",
              "\n",
              "      free sulfur dioxide  total sulfur dioxide  density    pH  sulphates  \\\n",
              "635                  24.0                  33.0  0.99540  3.27       0.55   \n",
              "581                   5.0                  14.0  1.00020  3.19       0.44   \n",
              "206                   9.0                  28.0  0.99940  3.20       0.77   \n",
              "547                   6.0                  21.0  0.99870  3.26       0.86   \n",
              "1515                 16.0                  65.0  0.99842  3.53       0.72   \n",
              "...                   ...                   ...      ...   ...        ...   \n",
              "186                  14.0                  67.0  0.99720  3.34       0.55   \n",
              "1308                 22.0                  91.0  0.99790  3.29       0.62   \n",
              "1043                 18.0                  39.0  0.99859  3.29       0.81   \n",
              "726                  18.0                  49.0  0.99940  3.43       0.72   \n",
              "508                  26.0                  62.0  0.99940  3.18       0.63   \n",
              "\n",
              "      alcohol  quality  \n",
              "635      9.70        5  \n",
              "581      9.60        5  \n",
              "206     10.80        7  \n",
              "547     10.70        6  \n",
              "1515     9.25        6  \n",
              "...       ...      ...  \n",
              "186      9.20        5  \n",
              "1308    10.10        5  \n",
              "1043    10.90        7  \n",
              "726     11.10        6  \n",
              "508     10.20        6  \n",
              "\n",
              "[319 rows x 12 columns]"
            ],
            "text/html": [
              "\n",
              "  <div id=\"df-01af41df-b36a-4c53-99e8-6448475c90a0\">\n",
              "    <div class=\"colab-df-container\">\n",
              "      <div>\n",
              "<style scoped>\n",
              "    .dataframe tbody tr th:only-of-type {\n",
              "        vertical-align: middle;\n",
              "    }\n",
              "\n",
              "    .dataframe tbody tr th {\n",
              "        vertical-align: top;\n",
              "    }\n",
              "\n",
              "    .dataframe thead th {\n",
              "        text-align: right;\n",
              "    }\n",
              "</style>\n",
              "<table border=\"1\" class=\"dataframe\">\n",
              "  <thead>\n",
              "    <tr style=\"text-align: right;\">\n",
              "      <th></th>\n",
              "      <th>fixed acidity</th>\n",
              "      <th>volatile acidity</th>\n",
              "      <th>citric acid</th>\n",
              "      <th>residual sugar</th>\n",
              "      <th>chlorides</th>\n",
              "      <th>free sulfur dioxide</th>\n",
              "      <th>total sulfur dioxide</th>\n",
              "      <th>density</th>\n",
              "      <th>pH</th>\n",
              "      <th>sulphates</th>\n",
              "      <th>alcohol</th>\n",
              "      <th>quality</th>\n",
              "    </tr>\n",
              "  </thead>\n",
              "  <tbody>\n",
              "    <tr>\n",
              "      <th>635</th>\n",
              "      <td>8.7</td>\n",
              "      <td>0.84</td>\n",
              "      <td>0.00</td>\n",
              "      <td>1.4</td>\n",
              "      <td>0.065</td>\n",
              "      <td>24.0</td>\n",
              "      <td>33.0</td>\n",
              "      <td>0.99540</td>\n",
              "      <td>3.27</td>\n",
              "      <td>0.55</td>\n",
              "      <td>9.70</td>\n",
              "      <td>5</td>\n",
              "    </tr>\n",
              "    <tr>\n",
              "      <th>581</th>\n",
              "      <td>12.3</td>\n",
              "      <td>0.50</td>\n",
              "      <td>0.49</td>\n",
              "      <td>2.2</td>\n",
              "      <td>0.089</td>\n",
              "      <td>5.0</td>\n",
              "      <td>14.0</td>\n",
              "      <td>1.00020</td>\n",
              "      <td>3.19</td>\n",
              "      <td>0.44</td>\n",
              "      <td>9.60</td>\n",
              "      <td>5</td>\n",
              "    </tr>\n",
              "    <tr>\n",
              "      <th>206</th>\n",
              "      <td>12.8</td>\n",
              "      <td>0.30</td>\n",
              "      <td>0.74</td>\n",
              "      <td>2.6</td>\n",
              "      <td>0.095</td>\n",
              "      <td>9.0</td>\n",
              "      <td>28.0</td>\n",
              "      <td>0.99940</td>\n",
              "      <td>3.20</td>\n",
              "      <td>0.77</td>\n",
              "      <td>10.80</td>\n",
              "      <td>7</td>\n",
              "    </tr>\n",
              "    <tr>\n",
              "      <th>547</th>\n",
              "      <td>10.6</td>\n",
              "      <td>0.31</td>\n",
              "      <td>0.49</td>\n",
              "      <td>2.5</td>\n",
              "      <td>0.067</td>\n",
              "      <td>6.0</td>\n",
              "      <td>21.0</td>\n",
              "      <td>0.99870</td>\n",
              "      <td>3.26</td>\n",
              "      <td>0.86</td>\n",
              "      <td>10.70</td>\n",
              "      <td>6</td>\n",
              "    </tr>\n",
              "    <tr>\n",
              "      <th>1515</th>\n",
              "      <td>6.9</td>\n",
              "      <td>0.84</td>\n",
              "      <td>0.21</td>\n",
              "      <td>4.1</td>\n",
              "      <td>0.074</td>\n",
              "      <td>16.0</td>\n",
              "      <td>65.0</td>\n",
              "      <td>0.99842</td>\n",
              "      <td>3.53</td>\n",
              "      <td>0.72</td>\n",
              "      <td>9.25</td>\n",
              "      <td>6</td>\n",
              "    </tr>\n",
              "    <tr>\n",
              "      <th>...</th>\n",
              "      <td>...</td>\n",
              "      <td>...</td>\n",
              "      <td>...</td>\n",
              "      <td>...</td>\n",
              "      <td>...</td>\n",
              "      <td>...</td>\n",
              "      <td>...</td>\n",
              "      <td>...</td>\n",
              "      <td>...</td>\n",
              "      <td>...</td>\n",
              "      <td>...</td>\n",
              "      <td>...</td>\n",
              "    </tr>\n",
              "    <tr>\n",
              "      <th>186</th>\n",
              "      <td>7.4</td>\n",
              "      <td>0.39</td>\n",
              "      <td>0.48</td>\n",
              "      <td>2.0</td>\n",
              "      <td>0.082</td>\n",
              "      <td>14.0</td>\n",
              "      <td>67.0</td>\n",
              "      <td>0.99720</td>\n",
              "      <td>3.34</td>\n",
              "      <td>0.55</td>\n",
              "      <td>9.20</td>\n",
              "      <td>5</td>\n",
              "    </tr>\n",
              "    <tr>\n",
              "      <th>1308</th>\n",
              "      <td>9.7</td>\n",
              "      <td>0.69</td>\n",
              "      <td>0.32</td>\n",
              "      <td>2.5</td>\n",
              "      <td>0.088</td>\n",
              "      <td>22.0</td>\n",
              "      <td>91.0</td>\n",
              "      <td>0.99790</td>\n",
              "      <td>3.29</td>\n",
              "      <td>0.62</td>\n",
              "      <td>10.10</td>\n",
              "      <td>5</td>\n",
              "    </tr>\n",
              "    <tr>\n",
              "      <th>1043</th>\n",
              "      <td>9.5</td>\n",
              "      <td>0.39</td>\n",
              "      <td>0.41</td>\n",
              "      <td>8.9</td>\n",
              "      <td>0.069</td>\n",
              "      <td>18.0</td>\n",
              "      <td>39.0</td>\n",
              "      <td>0.99859</td>\n",
              "      <td>3.29</td>\n",
              "      <td>0.81</td>\n",
              "      <td>10.90</td>\n",
              "      <td>7</td>\n",
              "    </tr>\n",
              "    <tr>\n",
              "      <th>726</th>\n",
              "      <td>8.1</td>\n",
              "      <td>0.72</td>\n",
              "      <td>0.09</td>\n",
              "      <td>2.8</td>\n",
              "      <td>0.084</td>\n",
              "      <td>18.0</td>\n",
              "      <td>49.0</td>\n",
              "      <td>0.99940</td>\n",
              "      <td>3.43</td>\n",
              "      <td>0.72</td>\n",
              "      <td>11.10</td>\n",
              "      <td>6</td>\n",
              "    </tr>\n",
              "    <tr>\n",
              "      <th>508</th>\n",
              "      <td>10.0</td>\n",
              "      <td>0.59</td>\n",
              "      <td>0.31</td>\n",
              "      <td>2.2</td>\n",
              "      <td>0.090</td>\n",
              "      <td>26.0</td>\n",
              "      <td>62.0</td>\n",
              "      <td>0.99940</td>\n",
              "      <td>3.18</td>\n",
              "      <td>0.63</td>\n",
              "      <td>10.20</td>\n",
              "      <td>6</td>\n",
              "    </tr>\n",
              "  </tbody>\n",
              "</table>\n",
              "<p>319 rows × 12 columns</p>\n",
              "</div>\n",
              "      <button class=\"colab-df-convert\" onclick=\"convertToInteractive('df-01af41df-b36a-4c53-99e8-6448475c90a0')\"\n",
              "              title=\"Convert this dataframe to an interactive table.\"\n",
              "              style=\"display:none;\">\n",
              "        \n",
              "  <svg xmlns=\"http://www.w3.org/2000/svg\" height=\"24px\"viewBox=\"0 0 24 24\"\n",
              "       width=\"24px\">\n",
              "    <path d=\"M0 0h24v24H0V0z\" fill=\"none\"/>\n",
              "    <path d=\"M18.56 5.44l.94 2.06.94-2.06 2.06-.94-2.06-.94-.94-2.06-.94 2.06-2.06.94zm-11 1L8.5 8.5l.94-2.06 2.06-.94-2.06-.94L8.5 2.5l-.94 2.06-2.06.94zm10 10l.94 2.06.94-2.06 2.06-.94-2.06-.94-.94-2.06-.94 2.06-2.06.94z\"/><path d=\"M17.41 7.96l-1.37-1.37c-.4-.4-.92-.59-1.43-.59-.52 0-1.04.2-1.43.59L10.3 9.45l-7.72 7.72c-.78.78-.78 2.05 0 2.83L4 21.41c.39.39.9.59 1.41.59.51 0 1.02-.2 1.41-.59l7.78-7.78 2.81-2.81c.8-.78.8-2.07 0-2.86zM5.41 20L4 18.59l7.72-7.72 1.47 1.35L5.41 20z\"/>\n",
              "  </svg>\n",
              "      </button>\n",
              "      \n",
              "  <style>\n",
              "    .colab-df-container {\n",
              "      display:flex;\n",
              "      flex-wrap:wrap;\n",
              "      gap: 12px;\n",
              "    }\n",
              "\n",
              "    .colab-df-convert {\n",
              "      background-color: #E8F0FE;\n",
              "      border: none;\n",
              "      border-radius: 50%;\n",
              "      cursor: pointer;\n",
              "      display: none;\n",
              "      fill: #1967D2;\n",
              "      height: 32px;\n",
              "      padding: 0 0 0 0;\n",
              "      width: 32px;\n",
              "    }\n",
              "\n",
              "    .colab-df-convert:hover {\n",
              "      background-color: #E2EBFA;\n",
              "      box-shadow: 0px 1px 2px rgba(60, 64, 67, 0.3), 0px 1px 3px 1px rgba(60, 64, 67, 0.15);\n",
              "      fill: #174EA6;\n",
              "    }\n",
              "\n",
              "    [theme=dark] .colab-df-convert {\n",
              "      background-color: #3B4455;\n",
              "      fill: #D2E3FC;\n",
              "    }\n",
              "\n",
              "    [theme=dark] .colab-df-convert:hover {\n",
              "      background-color: #434B5C;\n",
              "      box-shadow: 0px 1px 3px 1px rgba(0, 0, 0, 0.15);\n",
              "      filter: drop-shadow(0px 1px 2px rgba(0, 0, 0, 0.3));\n",
              "      fill: #FFFFFF;\n",
              "    }\n",
              "  </style>\n",
              "\n",
              "      <script>\n",
              "        const buttonEl =\n",
              "          document.querySelector('#df-01af41df-b36a-4c53-99e8-6448475c90a0 button.colab-df-convert');\n",
              "        buttonEl.style.display =\n",
              "          google.colab.kernel.accessAllowed ? 'block' : 'none';\n",
              "\n",
              "        async function convertToInteractive(key) {\n",
              "          const element = document.querySelector('#df-01af41df-b36a-4c53-99e8-6448475c90a0');\n",
              "          const dataTable =\n",
              "            await google.colab.kernel.invokeFunction('convertToInteractive',\n",
              "                                                     [key], {});\n",
              "          if (!dataTable) return;\n",
              "\n",
              "          const docLinkHtml = 'Like what you see? Visit the ' +\n",
              "            '<a target=\"_blank\" href=https://colab.research.google.com/notebooks/data_table.ipynb>data table notebook</a>'\n",
              "            + ' to learn more about interactive tables.';\n",
              "          element.innerHTML = '';\n",
              "          dataTable['output_type'] = 'display_data';\n",
              "          await google.colab.output.renderOutput(dataTable, element);\n",
              "          const docLink = document.createElement('div');\n",
              "          docLink.innerHTML = docLinkHtml;\n",
              "          element.appendChild(docLink);\n",
              "        }\n",
              "      </script>\n",
              "    </div>\n",
              "  </div>\n",
              "  "
            ]
          },
          "metadata": {},
          "execution_count": 4
        }
      ]
    },
    {
      "cell_type": "markdown",
      "source": [
        "# Exercise #3\n",
        "Use the kNN implementation and the other code provided below to normalize your data. Test your model using several different values of k and **graphically show** the results using your implementation of **mse**.\n",
        "\n",
        "*look at day 8 notes, mean squared error, keep appending into a list "
      ],
      "metadata": {
        "id": "tiwDvnNgP_0C"
      }
    },
    {
      "cell_type": "code",
      "source": [
        "import numpy\n",
        "\n",
        "def regression_kNN(specimen, data, k):\n",
        "  data_copy = data.copy()\n",
        "  data_copy['distance_to_new'] = numpy.sqrt(\n",
        "    (specimen['fixed acidity']-data['fixed acidity'])**2\n",
        "    +(specimen['volatile acidity']-data['volatile acidity'])**2\n",
        "    +(specimen['citric acid']-data['citric acid'])**2\n",
        "    +(specimen['residual sugar']-data['residual sugar'])**2\n",
        "    +(specimen['chlorides']-data['chlorides'])**2\n",
        "    +(specimen['free sulfur dioxide']-data['free sulfur dioxide'])**2\n",
        "    +(specimen['total sulfur dioxide']-data['total sulfur dioxide'])**2\n",
        "    +(specimen['density']-data['density'])**2\n",
        "    +(specimen['pH']-data['pH'])**2\n",
        "    +(specimen['sulphates']-data['sulphates'])**2\n",
        "    +(specimen['alcohol']-data['alcohol'])**2\n",
        "    )\n",
        "  sorted_data = data_copy.sort_values(['distance_to_new']) \n",
        "  return sorted_data.iloc[0:k]['quality'].mean()"
      ],
      "metadata": {
        "id": "WLhN_9bWQFu3"
      },
      "execution_count": null,
      "outputs": []
    },
    {
      "cell_type": "code",
      "source": [
        "def regressions_all_kNN(test_data,train_data,k):\n",
        "    #apply the regression_kNN function to each item in the test data with the train\n",
        "    #data and k passed as the other two arguments. The result will be a series of \n",
        "    #the individual results.\n",
        "    results = []\n",
        "    for i in range(len(test_data)):\n",
        "      prediction = regression_kNN(test_data.iloc[i], train_data,k)\n",
        "      results.append(prediction)\n",
        "    return pandas.Series(results)"
      ],
      "metadata": {
        "id": "1KClR8Z2QsyC"
      },
      "execution_count": null,
      "outputs": []
    },
    {
      "cell_type": "code",
      "source": [
        "# normalize the data (part 1) -- calculate the mean and standard deviation values for the predictor columns\n",
        "fixed_acidity_mean = train_data['fixed acidity'].mean()\n",
        "fixed_acidity_std = train_data['fixed acidity'].std()\n",
        "volatile_acidity_mean = train_data['volatile acidity'].mean()\n",
        "volatile_acidity_std = train_data['volatile acidity'].std()\n",
        "citric_acid_mean = train_data['citric acid'].mean()\n",
        "citric_acid_std = train_data['citric acid'].std()\n",
        "residual_sugar_mean = train_data['residual sugar'].mean()\n",
        "residual_sugar_std = train_data['residual sugar'].std()\n",
        "chlorides_mean = train_data['chlorides'].mean()\n",
        "chlorides_std = train_data['chlorides'].std()\n",
        "free_sulfur_dioxide_mean = train_data['free sulfur dioxide'].mean()\n",
        "free_sulfur_dioxide_std = train_data['free sulfur dioxide'].std()\n",
        "total_sulfur_dioxide_mean = train_data['total sulfur dioxide'].mean()\n",
        "total_sulfur_dioxide_std = train_data['total sulfur dioxide'].std()\n",
        "density_mean = train_data['density'].mean()\n",
        "density_std = train_data['density'].std()\n",
        "pH_mean = train_data['pH'].mean()\n",
        "pH_std = train_data['pH'].std()\n",
        "sulphates_mean = train_data['sulphates'].mean()\n",
        "sulphates_std = train_data['sulphates'].std()\n",
        "alcohol_mean = train_data['alcohol'].mean()\n",
        "alcohol_std = train_data['alcohol'].std()\n"
      ],
      "metadata": {
        "id": "ZbpecOIJQxMv"
      },
      "execution_count": null,
      "outputs": []
    },
    {
      "cell_type": "code",
      "source": [
        " # normalize the data (part 1) -- normalize both the training and testing data frames\n",
        "train_norm_data = train_data.copy()\n",
        "test_norm_data = test_data.copy()\n",
        "\n",
        "# update the columns in train_norm_data \n",
        "train_norm_data['fixed acidity'] = (train_data['fixed acidity'] - fixed_acidity_mean)/fixed_acidity_std\n",
        "train_norm_data['volatile acidity'] = (train_data['volatile acidity'] - volatile_acidity_mean)/volatile_acidity_std\n",
        "train_norm_data['citric acid'] = (train_data['citric acid'] - citric_acid_mean)/citric_acid_std\n",
        "train_norm_data['residual sugar'] = (train_data['residual sugar'] - residual_sugar_mean)/residual_sugar_std\n",
        "train_norm_data['chlorides'] = (train_data['chlorides'] - chlorides_mean)/chlorides_std\n",
        "train_norm_data['free sulfur dioxide'] = (train_data['free sulfur dioxide'] - free_sulfur_dioxide_mean)/free_sulfur_dioxide_std\n",
        "train_norm_data['total sulfur dioxide'] = (train_data['total sulfur dioxide'] - total_sulfur_dioxide_mean)/total_sulfur_dioxide_std\n",
        "train_norm_data['density'] = (train_data['density'] - density_mean)/density_std\n",
        "train_norm_data['pH'] = (train_data['pH'] - pH_mean)/pH_std\n",
        "train_norm_data['sulphates'] = (train_data['sulphates'] - sulphates_mean)/sulphates_std\n",
        "train_norm_data['alcohol'] = (train_data['alcohol'] - alcohol_mean)/alcohol_std\n",
        "\n",
        "# update the columns in test_norm_data \n",
        "test_norm_data['fixed acidity'] = (test_data['fixed acidity'] - fixed_acidity_mean)/fixed_acidity_std\n",
        "test_norm_data['volatile acidity'] = (test_data['volatile acidity'] - volatile_acidity_mean)/volatile_acidity_std\n",
        "test_norm_data['citric acid'] = (test_data['citric acid'] - citric_acid_mean)/citric_acid_std\n",
        "test_norm_data['residual sugar'] = (test_data['residual sugar'] - residual_sugar_mean)/residual_sugar_std\n",
        "test_norm_data['chlorides'] = (test_data['chlorides'] - chlorides_mean)/chlorides_std\n",
        "test_norm_data['free sulfur dioxide'] = (test_data['free sulfur dioxide'] - free_sulfur_dioxide_mean)/free_sulfur_dioxide_std\n",
        "test_norm_data['total sulfur dioxide'] = (test_data['total sulfur dioxide'] - total_sulfur_dioxide_mean)/total_sulfur_dioxide_std\n",
        "test_norm_data['density'] = (test_data['density'] - density_mean)/density_std\n",
        "test_norm_data['pH'] = (test_data['pH'] - pH_mean)/pH_std\n",
        "test_norm_data['sulphates'] = (test_data['sulphates'] - sulphates_mean)/sulphates_std\n",
        "test_norm_data['alcohol'] = (test_data['alcohol'] - alcohol_mean)/alcohol_std"
      ],
      "metadata": {
        "id": "usRm6g4-Q_uS"
      },
      "execution_count": null,
      "outputs": []
    },
    {
      "cell_type": "code",
      "source": [
        "import sklearn.metrics\n",
        "import matplotlib.pyplot as plt\n",
        "%matplotlib inline\n",
        "\n",
        "\n",
        "# explore different values of k\n",
        "# explore different values of k\n",
        "k_vals = range(1,31,2)\n",
        "kNN_mse = []\n",
        "r2_vals = []\n",
        " \n",
        "for k in k_vals:\n",
        "    predictions = regressions_all_kNN(test_norm_data,train_norm_data,k)\n",
        "    current_accuracy = mse(test_norm_data['quality'],predictions)\n",
        "    kNN_mse.append(current_accuracy)\n",
        "\n",
        "\n",
        "plt.suptitle('Wine Data k-NN Experiment',fontsize=18)\n",
        "plt.xlabel('k')\n",
        "plt.ylabel('mse')\n",
        "plt.plot(k_vals,kNN_mse,'ro-',label='k-NN')\n",
        "plt.legend(loc='lower right', shadow=True)\n",
        "plt.axis([0,31,.3,.5]) #change U shape \n",
        "\n",
        "plt.show()"
      ],
      "metadata": {
        "colab": {
          "base_uri": "https://localhost:8080/",
          "height": 308
        },
        "id": "2hdPmQ1ip1IL",
        "outputId": "e2213a24-26be-4db3-de25-ad3734a8c300"
      },
      "execution_count": null,
      "outputs": [
        {
          "output_type": "display_data",
          "data": {
            "text/plain": [
              "<Figure size 432x288 with 1 Axes>"
            ],
            "image/png": "[encoded data removed]"
          },
          "metadata": {
            "needs_background": "light"
          }
        }
      ]
    },
    {
      "cell_type": "markdown",
      "source": [
        "# Exercise #4\n",
        "Repeat the experiment and **graphically show the results** using r^2."
      ],
      "metadata": {
        "id": "_Bgql4RdR8ta"
      }
    },
    {
      "cell_type": "code",
      "source": [
        "# explore different values of k\n",
        "# explore different values of k\n",
        "k_vals = range(1,31,2)\n",
        "kNN_mse = []\n",
        "r2_vals = []\n",
        " \n",
        "for k in k_vals:\n",
        "    predictions = regressions_all_kNN(test_norm_data,train_norm_data,k)\n",
        "    current_accuracy = mse(test_norm_data['quality'],predictions)\n",
        "    kNN_mse.append(current_accuracy)\n",
        "    r2_vals.append(sklearn.metrics.r2_score(test_norm_data['quality'],predictions))\n",
        "\n",
        "\n",
        "plt.suptitle('mse Wine Data k-NN Experiment',fontsize=18)\n",
        "plt.xlabel('K')\n",
        "plt.ylabel('R^2 VALUES')\n",
        "plt.plot(k_vals,r2_vals ,'ro-',label='k-NN')\n",
        "plt.legend(loc='lower right', shadow=True)\n",
        "plt.axis([0,31,.3,.5]) \n",
        "\n",
        "plt.show()"
      ],
      "metadata": {
        "colab": {
          "base_uri": "https://localhost:8080/",
          "height": 308
        },
        "id": "0KEE9YrMojAJ",
        "outputId": "e86882fd-c3e2-4290-8c42-1149b053858b"
      },
      "execution_count": null,
      "outputs": [
        {
          "output_type": "display_data",
          "data": {
            "text/plain": [
              "<Figure size 432x288 with 1 Axes>"
            ],
            "image/png": "[encoded data removed]"
          },
          "metadata": {
            "needs_background": "light"
          }
        }
      ]
    },
    {
      "cell_type": "markdown",
      "source": [
        "# Exercise #5. \n",
        "Describe your findings. What conclusions can you draw about the best number for k for the k-NN algorithm for this data set? **Explain why.** Use a markdown cell to explain your conclusions."
      ],
      "metadata": {
        "id": "j0_mN_MpTscx"
      }
    },
    {
      "cell_type": "markdown",
      "source": [
        "based off adjusting the numbers for the kNN algorithm the K value between 10-15 had the highest R^2 value making the data a good enough fit. When I took the MSE of the first graph i saw an elbow curve, but after implementing the r^2 function the data was more accurate. It is better because we are squaring the data values giving us a more accurate representation of the data given. \n",
        "\n"
      ],
      "metadata": {
        "id": "47vcGnM_9HD9"
      }
    }
  ]
}