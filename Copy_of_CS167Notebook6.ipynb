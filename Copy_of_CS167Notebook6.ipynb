{
  "nbformat": 4,
  "nbformat_minor": 0,
  "metadata": {
    "colab": {
      "provenance": [],
      "include_colab_link": true
    },
    "kernelspec": {
      "name": "python3",
      "display_name": "Python 3"
    },
    "language_info": {
      "name": "python"
    },
    "accelerator": "GPU",
    "gpuClass": "standard"
  },
  "cells": [
    {
      "cell_type": "markdown",
      "metadata": {
        "id": "view-in-github",
        "colab_type": "text"
      },
      "source": [
        "<a href=\"https://colab.research.google.com/github/MOKUAGU/Codes/blob/main/Copy_of_CS167Notebook6.ipynb\" target=\"_parent\"><img src=\"https://colab.research.google.com/assets/colab-badge.svg\" alt=\"Open In Colab\"/></a>"
      ]
    },
    {
      "cell_type": "markdown",
      "source": [
        "# Notebook #6\n",
        "Name: munachi okuagu\n"
      ],
      "metadata": {
        "id": "zqZo6gbJefy2"
      }
    },
    {
      "cell_type": "markdown",
      "source": [
        "## Problem Description:\n",
        "Describe the problem you are going to attempt to solve\n",
        "Describe the tools used and your approach. "
      ],
      "metadata": {
        "id": "sK7vxZ2VenfW"
      }
    },
    {
      "cell_type": "markdown",
      "source": [
        "the problem: to determine whether or not a patient has pneumonia "
      ],
      "metadata": {
        "id": "d_rzQKBLiBGO"
      }
    },
    {
      "cell_type": "code",
      "source": [
        "from google.colab import drive\n",
        "import pandas\n",
        "drive.mount('/content/drive')"
      ],
      "metadata": {
        "id": "Eu1oVdmgfE_1",
        "colab": {
          "base_uri": "https://localhost:8080/"
        },
        "outputId": "de7a15cd-8c68-403a-b63d-36cfaf56395d"
      },
      "execution_count": null,
      "outputs": [
        {
          "output_type": "stream",
          "name": "stdout",
          "text": [
            "Mounted at /content/drive\n"
          ]
        }
      ]
    },
    {
      "cell_type": "code",
      "source": [
        "# attempt to get GPU reserved\n",
        "# In Google Colab, select Runtime -> Change runtime type\n",
        "# If possible, select GPU and SAVE\n",
        "# If not possible, OK. Computations may take a bit longer\n",
        "import tensorflow as tf\n",
        "device_name = tf.test.gpu_device_name()\n",
        "if device_name != '/device:GPU:0':\n",
        "  raise SystemError('GPU device not found')\n",
        "print('Found GPU at: {}'.format(device_name))"
      ],
      "metadata": {
        "id": "PCkq5nMZfEc_",
        "colab": {
          "base_uri": "https://localhost:8080/"
        },
        "outputId": "5cdae6db-86f5-4744-a1ef-d713d7988705"
      },
      "execution_count": null,
      "outputs": [
        {
          "output_type": "stream",
          "name": "stdout",
          "text": [
            "Found GPU at: /device:GPU:0\n"
          ]
        }
      ]
    },
    {
      "cell_type": "code",
      "source": [
        "import keras\n",
        "print (\"TensorFlow version: \" + tf.__version__)\n",
        "print (\"Keras version: \" + keras.__version__)"
      ],
      "metadata": {
        "id": "236T4CkjO76V",
        "colab": {
          "base_uri": "https://localhost:8080/"
        },
        "outputId": "55e963f7-21a8-46aa-893c-7a10962d84ed"
      },
      "execution_count": null,
      "outputs": [
        {
          "output_type": "stream",
          "name": "stdout",
          "text": [
            "TensorFlow version: 2.9.2\n",
            "Keras version: 2.9.0\n"
          ]
        }
      ]
    },
    {
      "cell_type": "code",
      "execution_count": null,
      "metadata": {
        "id": "Z_Mnt0ATea_Z"
      },
      "outputs": [],
      "source": [
        "#ignore warnings\n",
        "import warnings\n",
        "warnings.filterwarnings('ignore')"
      ]
    },
    {
      "cell_type": "code",
      "source": [
        "# import the libraries\n",
        "import keras\n",
        "import sys\n",
        "from matplotlib import pyplot\n",
        "from keras.models import Sequential\n",
        "from keras.layers import Conv2D\n",
        "from keras.layers import MaxPooling2D\n",
        "from keras.layers import Dense\n",
        "from keras.layers import Flatten\n",
        "from keras.preprocessing.image import ImageDataGenerator\n",
        "import sys"
      ],
      "metadata": {
        "id": "BQ2LBOmKfhqX"
      },
      "execution_count": null,
      "outputs": []
    },
    {
      "cell_type": "markdown",
      "source": [
        "<hr>\n",
        "\n",
        "# Example code for Chest X-Ray"
      ],
      "metadata": {
        "id": "mNm7BTjafFRV"
      }
    },
    {
      "cell_type": "code",
      "source": [
        "# dimensions of our images.\n",
        "img_width = 200\n",
        "img_height = 200\n",
        "\n",
        "#the directories where our train and test data is\n",
        "train_data_dir = '/content/drive/MyDrive/CS167DATASETS/chest_xray/train' #5216 images\n",
        "test_data_dir = '/content/drive/MyDrive/CS167DATASETS/chest_xray/test'   #624 images\n",
        "\n",
        "#we will feed the training images to the neural network\n",
        "#in batches of 32 images at a time so we don't have \n",
        "#to load the entire data set into memory\n",
        "batch_size = 32\n"
      ],
      "metadata": {
        "id": "DRL2RVhKfrog"
      },
      "execution_count": null,
      "outputs": []
    },
    {
      "cell_type": "markdown",
      "source": [
        "the problem: \n"
      ],
      "metadata": {
        "id": "eCSBVSuyAUXE"
      }
    },
    {
      "cell_type": "code",
      "source": [
        "# used to rescale the pixel values from [0, 255] to between 0 and 1\n",
        "datagen = ImageDataGenerator(rescale=1.0/255.0)\n",
        "\n",
        "#These will look for our training and testing data\n",
        "#in their respective directory, and it will figure out\n",
        "#the class of each example based on the subfolder it is in\n",
        "train_data = datagen.flow_from_directory(\n",
        "        train_data_dir,\n",
        "        target_size=(img_width, img_height),\n",
        "        batch_size=batch_size,\n",
        "        class_mode='binary')\n",
        "\n",
        "test_data = datagen.flow_from_directory(\n",
        "        test_data_dir,\n",
        "        target_size=(img_width, img_height),\n",
        "        batch_size=batch_size,\n",
        "        class_mode='binary')"
      ],
      "metadata": {
        "id": "826WLAlsf3dJ",
        "colab": {
          "base_uri": "https://localhost:8080/"
        },
        "outputId": "30521198-c4f5-49bf-c268-f6c7191b6da6"
      },
      "execution_count": null,
      "outputs": [
        {
          "output_type": "stream",
          "name": "stdout",
          "text": [
            "Found 5217 images belonging to 2 classes.\n",
            "Found 624 images belonging to 2 classes.\n"
          ]
        }
      ]
    },
    {
      "cell_type": "code",
      "source": [
        "#set up CNN - original \n",
        "#layer conv, pool, convo flatten , fully connected \n",
        "\n",
        "#setting up a CNN model here....\n",
        "model = Sequential()\n",
        "model.add(Conv2D(32, (3, 3), activation = 'relu', input_shape=(img_width, img_height, 3)))\n",
        "model.add(MaxPooling2D(pool_size =(3,3)))\n",
        "\n",
        "model.add(Conv2D(64,(3,3),activation= 'relu'))\n",
        "model.add(MaxPooling2D(pool_size =(2,2)))\n",
        "\n",
        "\n",
        "model.add(Flatten()) #flatten the convolutional layer so it can go into a fully-connected layer\n",
        "model.add(Dense(32, activation= 'relu')) #fully-connected layer\n",
        "model.add(Dense(1,activation='sigmoid')) ### need to change this \n",
        "\n",
        "# need to compile the model before you can use it\n",
        "model.compile(optimizer=\"adam\", loss='binary_crossentropy', metrics=['accuracy'])\n",
        "\n",
        "#This will actually train the model.\n",
        "#You will want to change the epochs to something small enough to run on your computer.\n",
        "#Maybe 3 to 10 if you do not have a GPU doing the work.\n",
        "training_results = model.fit_generator(\n",
        "        train_data, #training set\n",
        "        steps_per_epoch = len(train_data), \n",
        "        epochs=5, #number of epochs \n",
        "        validation_data = test_data, #testing set\n",
        "        validation_steps = len(test_data)\n",
        "        )\n"
      ],
      "metadata": {
        "id": "ff-kzhThf4nZ",
        "colab": {
          "base_uri": "https://localhost:8080/"
        },
        "outputId": "9d7f3fd9-6618-41f8-a65a-fbada8322132"
      },
      "execution_count": null,
      "outputs": [
        {
          "output_type": "stream",
          "name": "stdout",
          "text": [
            "Epoch 1/5\n",
            "164/164 [==============================] - 1058s 6s/step - loss: 0.3272 - accuracy: 0.8532 - val_loss: 0.5416 - val_accuracy: 0.7933\n",
            "Epoch 2/5\n",
            "164/164 [==============================] - 15s 89ms/step - loss: 0.2195 - accuracy: 0.9187 - val_loss: 0.4910 - val_accuracy: 0.8221\n",
            "Epoch 3/5\n",
            "164/164 [==============================] - 15s 89ms/step - loss: 0.1004 - accuracy: 0.9615 - val_loss: 0.9104 - val_accuracy: 0.7516\n",
            "Epoch 4/5\n",
            "164/164 [==============================] - 14s 88ms/step - loss: 0.0841 - accuracy: 0.9684 - val_loss: 1.1175 - val_accuracy: 0.7356\n",
            "Epoch 5/5\n",
            "164/164 [==============================] - 14s 87ms/step - loss: 0.0740 - accuracy: 0.9735 - val_loss: 1.0923 - val_accuracy: 0.7468\n"
          ]
        }
      ]
    },
    {
      "cell_type": "code",
      "source": [
        "import matplotlib.pyplot as plt\n",
        "%matplotlib inline\n",
        "plt.plot(training_results.history['accuracy'])\n",
        "plt.plot(training_results.history['val_accuracy'])\n",
        "plt.title('model accuracy')\n",
        "plt.ylabel('accuracy')\n",
        "plt.xlabel('epoch')\n",
        "plt.legend(['train', 'test'], loc='upper left')\n",
        "plt.show()"
      ],
      "metadata": {
        "colab": {
          "base_uri": "https://localhost:8080/",
          "height": 295
        },
        "id": "Y9jjZ3jgX1Op",
        "outputId": "0ba620e1-1ead-4899-fb54-f96ad6c3064c"
      },
      "execution_count": null,
      "outputs": [
        {
          "output_type": "display_data",
          "data": {
            "text/plain": [
              "<Figure size 432x288 with 1 Axes>"
            ],
            "image/png": "[encoded data removed]"
          },
          "metadata": {
            "needs_background": "light"
          }
        }
      ]
    },
    {
      "cell_type": "code",
      "source": [
        "# tuned epoch \n",
        "#setting up a CNN model here....\n",
        "model = Sequential()\n",
        "model.add(Conv2D(20, (3, 3), activation = 'relu', input_shape=(img_width, img_height, 3)))\n",
        "model.add(MaxPooling2D(pool_size =(3,3)))\n",
        "\n",
        "model.add(Conv2D(34,(3,3),activation= 'relu'))\n",
        "model.add(MaxPooling2D(pool_size =(2,2)))\n",
        "\n",
        "\n",
        "model.add(Flatten()) #flatten the convolutional layer so it can go into a fully-connected layer\n",
        "model.add(Dense(32, activation= 'relu')) #fully-connected layer\n",
        "model.add(Dense(1,activation='sigmoid')) ### need to change this \n",
        "\n",
        "# need to compile the model before you can use it\n",
        "model.compile(optimizer=\"sgd\", loss='binary_crossentropy', metrics=['accuracy'])\n",
        "#This will actually train the model.\n",
        "#You will want to change the epochs to something small enough to run on your computer.\n",
        "#Maybe 3 to 10 if you do not have a GPU doing the work.\n",
        "training_results = model.fit_generator(\n",
        "        train_data, #training set\n",
        "        steps_per_epoch = len(train_data), \n",
        "        epochs=3, #number of epochs \n",
        "        validation_data = test_data, #testing set\n",
        "        validation_steps = len(test_data)\n",
        "        )"
      ],
      "metadata": {
        "colab": {
          "base_uri": "https://localhost:8080/"
        },
        "id": "6HucxNj57CLI",
        "outputId": "dcbd6460-4619-4f88-c5f4-82bcc55ca7ce"
      },
      "execution_count": null,
      "outputs": [
        {
          "output_type": "stream",
          "name": "stdout",
          "text": [
            "Epoch 1/3\n",
            "164/164 [==============================] - 15s 89ms/step - loss: 0.4859 - accuracy: 0.7719 - val_loss: 0.6713 - val_accuracy: 0.6394\n",
            "Epoch 2/3\n",
            "164/164 [==============================] - 14s 88ms/step - loss: 0.3092 - accuracy: 0.8777 - val_loss: 0.7902 - val_accuracy: 0.6763\n",
            "Epoch 3/3\n",
            "164/164 [==============================] - 14s 88ms/step - loss: 0.2221 - accuracy: 0.9059 - val_loss: 0.4622 - val_accuracy: 0.7853\n"
          ]
        }
      ]
    },
    {
      "cell_type": "code",
      "source": [
        "import matplotlib.pyplot as plt\n",
        "%matplotlib inline\n",
        "plt.plot(training_results.history['accuracy'])\n",
        "plt.plot(training_results.history['val_accuracy'])\n",
        "plt.title('model accuracy')\n",
        "plt.ylabel('accuracy')\n",
        "plt.xlabel('epoch')\n",
        "plt.legend(['train', 'test'], loc='upper left')\n",
        "plt.show()"
      ],
      "metadata": {
        "colab": {
          "base_uri": "https://localhost:8080/",
          "height": 295
        },
        "id": "e4Gkmwdn9zf4",
        "outputId": "2b82719c-8818-4a28-8a33-54c486b0b603"
      },
      "execution_count": null,
      "outputs": [
        {
          "output_type": "display_data",
          "data": {
            "text/plain": [
              "<Figure size 432x288 with 1 Axes>"
            ],
            "image/png": "[encoded data removed]"
          },
          "metadata": {
            "needs_background": "light"
          }
        }
      ]
    },
    {
      "cell_type": "markdown",
      "source": [
        "conclusion:\n",
        "In my tuned model I changed the number of convolutional layers and the number of pools. As a result my accuracy decreased from 97% to 86%. I also changed the number of epochs I ran to 3. there was also a difference in the way the first graph turned out in contrast to the tuned model. I think the first graph looks better in terms of results.. (not 100% sure). In the tuned CNN when I changed the Conv layer to 34 instead of 64 the accuracy decreased so I think the number of convolutional layers added or subtracted plays a factor in how well the CNN performs. I do not think my model had any overfitting."
      ],
      "metadata": {
        "id": "0rZay35hAkwq"
      }
    }
  ]
}