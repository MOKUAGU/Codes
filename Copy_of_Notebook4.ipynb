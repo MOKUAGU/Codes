{
  "nbformat": 4,
  "nbformat_minor": 0,
  "metadata": {
    "colab": {
      "provenance": [],
      "include_colab_link": true
    },
    "kernelspec": {
      "name": "python3",
      "display_name": "Python 3"
    },
    "language_info": {
      "name": "python"
    }
  },
  "cells": [
    {
      "cell_type": "markdown",
      "metadata": {
        "id": "view-in-github",
        "colab_type": "text"
      },
      "source": [
        "<a href=\"https://colab.research.google.com/github/MOKUAGU/Codes/blob/main/Copy_of_Notebook4.ipynb\" target=\"_parent\"><img src=\"https://colab.research.google.com/assets/colab-badge.svg\" alt=\"Open In Colab\"/></a>"
      ]
    },
    {
      "cell_type": "markdown",
      "metadata": {
        "id": "G04Rsb8TOYv1"
      },
      "source": [
        "# Notebook \\#4\n",
        "\n",
        "# Name: (Munachi Okuagu)\n",
        "\n"
      ]
    },
    {
      "cell_type": "code",
      "metadata": {
        "id": "fWJ8-XD8OzPx",
        "colab": {
          "base_uri": "https://localhost:8080/"
        },
        "outputId": "a31af126-c195-415e-9e69-686aafebcab9"
      },
      "source": [
        "# mount drive\n",
        "from google.colab import drive\n",
        "drive.mount('/content/drive')"
      ],
      "execution_count": null,
      "outputs": [
        {
          "output_type": "stream",
          "name": "stdout",
          "text": [
            "Mounted at /content/drive\n"
          ]
        }
      ]
    },
    {
      "cell_type": "code",
      "source": [
        "# import libraries\n",
        "import sklearn\n",
        "import pandas\n",
        "from sklearn import tree\n",
        "from sklearn.model_selection import train_test_split\n",
        "from sklearn import metrics\n",
        "from sklearn import neighbors\n",
        "\n",
        "# load data\n",
        "housing_data = pandas.read_csv('/content/drive/MyDrive/CS167DATASETS/HousingData.csv')\n"
      ],
      "metadata": {
        "id": "pe1OVnLdXSjK"
      },
      "execution_count": null,
      "outputs": []
    },
    {
      "cell_type": "markdown",
      "source": [
        "# Part 1: Clean and normalize the Data\n",
        "Clean and normalize the data (use the StandardScalar from sklearn). Replace any null values with the average of the columns. Verify that there are no null values by printing out the results of `housing_data.isna().any()`"
      ],
      "metadata": {
        "id": "-UlRnBhx02Uy"
      }
    },
    {
      "cell_type": "code",
      "source": [
        "# clean data here!!!\n",
        "print(housing_data.isna().any()) # look at all of these columns with null values!\n",
        "#cleaning all values that print out true- should print out false\n",
        "houses = housing_data.copy()\n",
        "\n",
        "crim_mean = houses['CRIM'].mean()\n",
        "houses['CRIM'].fillna(crim_mean, inplace=True)\n",
        "\n",
        "zn_mean = houses['ZN'].mean()\n",
        "houses['ZN'].fillna(zn_mean, inplace=True)\n",
        "\n",
        "indus_mean = houses['INDUS'].mean()\n",
        "houses['INDUS'].fillna(indus_mean, inplace=True)\n",
        "\n",
        "chas_mean = houses['CHAS'].mean()\n",
        "houses['CHAS'].fillna(chas_mean, inplace=True)\n",
        "\n",
        "age_mean = houses['AGE'].mean()\n",
        "houses['AGE'].fillna(age_mean, inplace=True)\n",
        "\n",
        "lstat_mean = houses['LSTAT'].mean()\n",
        "houses['LSTAT'].fillna(lstat_mean, inplace=True)\n",
        "\n",
        "print(houses.isna().any())"
      ],
      "metadata": {
        "id": "eLtZ-P3YZazA",
        "colab": {
          "base_uri": "https://localhost:8080/"
        },
        "outputId": "bfba49db-9e4b-4464-f4c2-d5abdf2d06e8"
      },
      "execution_count": null,
      "outputs": [
        {
          "output_type": "stream",
          "name": "stdout",
          "text": [
            "CRIM        True\n",
            "ZN          True\n",
            "INDUS       True\n",
            "CHAS        True\n",
            "NOX        False\n",
            "RM         False\n",
            "AGE         True\n",
            "DIS        False\n",
            "RAD        False\n",
            "TAX        False\n",
            "PTRATIO    False\n",
            "LSTAT       True\n",
            "MEDV       False\n",
            "dtype: bool\n",
            "CRIM       False\n",
            "ZN         False\n",
            "INDUS      False\n",
            "CHAS       False\n",
            "NOX        False\n",
            "RM         False\n",
            "AGE        False\n",
            "DIS        False\n",
            "RAD        False\n",
            "TAX        False\n",
            "PTRATIO    False\n",
            "LSTAT      False\n",
            "MEDV       False\n",
            "dtype: bool\n"
          ]
        }
      ]
    },
    {
      "cell_type": "markdown",
      "source": [
        "## Part 2: Using scikit learn (sklearn)\n",
        "You must run at least 6 variations of the algorithms and display their results using an appropriate regression metric (again, use the scikit-learn modules). I will be looking for the following to be included in your comparison:\n",
        "\n",
        "*   k-Nearest-Neighbor with a **small value of k**\n",
        "*   k-Nearest-Neighbor with a **large value of k**\n",
        "*   **weighted k-Nearest-Neighbor** with a **small value of k** (the same one you used for the unweighted version)\n",
        "*  **weighted k-Nearest-Neighbor** with a **large value of k** (the same one you used for the unweighted version) \n",
        "*   a **decision tree with default** parameter values\n",
        "*   a **decision tree**, setting some kind of parameter that results in a **smaller tree**\n",
        "\n",
        "You will need to use the documentation for sklearn for this Notebook. Here are some helpful links:\n",
        "* [K Neighbors Regressor](https://scikit-learn.org/stable/modules/generated/sklearn.neighbors.KNeighborsRegressor.html)\n",
        "* [Decision Tree Regressor](https://scikit-learn.org/stable/modules/generated/sklearn.tree.DecisionTreeRegressor.html) \n"
      ],
      "metadata": {
        "id": "fuRLnD970rbJ"
      }
    },
    {
      "cell_type": "code",
      "metadata": {
        "id": "exaUcSQxI5FU",
        "colab": {
          "base_uri": "https://localhost:8080/",
          "height": 206
        },
        "outputId": "574a4fb9-556f-4dcb-910c-bc607d00333b"
      },
      "source": [
        "# Split the data into the training data and testing data\n",
        "target= 'MEDV'\n",
        "predictors = housing_data.columns.drop(target) # use all of the columns except for MEDV\n",
        "train_data, test_data, train_sln, test_sln = train_test_split(houses[predictors], houses[target], test_size = 0.2, random_state=41)\n",
        "train_data.head()"
      ],
      "execution_count": null,
      "outputs": [
        {
          "output_type": "execute_result",
          "data": {
            "text/plain": [
              "         CRIM    ZN  INDUS  CHAS    NOX     RM    AGE     DIS  RAD  TAX  \\\n",
              "110  0.107930   0.0   8.56   0.0  0.520  6.195   54.4  2.7778    5  384   \n",
              "158  1.342840   0.0  19.58   0.0  0.605  6.066  100.0  1.7573    5  403   \n",
              "460  3.611874   0.0  18.10   0.0  0.713  6.701   90.0  2.5975   24  666   \n",
              "471  4.038410   0.0  18.10   0.0  0.532  6.229   90.7  3.0993   24  666   \n",
              "273  0.221880  20.0   6.96   1.0  0.464  7.691   51.8  4.3665    3  223   \n",
              "\n",
              "     PTRATIO  LSTAT  \n",
              "110     20.9  13.00  \n",
              "158     14.7   6.43  \n",
              "460     20.2  16.42  \n",
              "471     20.2  12.87  \n",
              "273     18.6   6.58  "
            ],
            "text/html": [
              "\n",
              "  <div id=\"df-81b33a27-3a99-40c1-8438-aae0ddefe38d\">\n",
              "    <div class=\"colab-df-container\">\n",
              "      <div>\n",
              "<style scoped>\n",
              "    .dataframe tbody tr th:only-of-type {\n",
              "        vertical-align: middle;\n",
              "    }\n",
              "\n",
              "    .dataframe tbody tr th {\n",
              "        vertical-align: top;\n",
              "    }\n",
              "\n",
              "    .dataframe thead th {\n",
              "        text-align: right;\n",
              "    }\n",
              "</style>\n",
              "<table border=\"1\" class=\"dataframe\">\n",
              "  <thead>\n",
              "    <tr style=\"text-align: right;\">\n",
              "      <th></th>\n",
              "      <th>CRIM</th>\n",
              "      <th>ZN</th>\n",
              "      <th>INDUS</th>\n",
              "      <th>CHAS</th>\n",
              "      <th>NOX</th>\n",
              "      <th>RM</th>\n",
              "      <th>AGE</th>\n",
              "      <th>DIS</th>\n",
              "      <th>RAD</th>\n",
              "      <th>TAX</th>\n",
              "      <th>PTRATIO</th>\n",
              "      <th>LSTAT</th>\n",
              "    </tr>\n",
              "  </thead>\n",
              "  <tbody>\n",
              "    <tr>\n",
              "      <th>110</th>\n",
              "      <td>0.107930</td>\n",
              "      <td>0.0</td>\n",
              "      <td>8.56</td>\n",
              "      <td>0.0</td>\n",
              "      <td>0.520</td>\n",
              "      <td>6.195</td>\n",
              "      <td>54.4</td>\n",
              "      <td>2.7778</td>\n",
              "      <td>5</td>\n",
              "      <td>384</td>\n",
              "      <td>20.9</td>\n",
              "      <td>13.00</td>\n",
              "    </tr>\n",
              "    <tr>\n",
              "      <th>158</th>\n",
              "      <td>1.342840</td>\n",
              "      <td>0.0</td>\n",
              "      <td>19.58</td>\n",
              "      <td>0.0</td>\n",
              "      <td>0.605</td>\n",
              "      <td>6.066</td>\n",
              "      <td>100.0</td>\n",
              "      <td>1.7573</td>\n",
              "      <td>5</td>\n",
              "      <td>403</td>\n",
              "      <td>14.7</td>\n",
              "      <td>6.43</td>\n",
              "    </tr>\n",
              "    <tr>\n",
              "      <th>460</th>\n",
              "      <td>3.611874</td>\n",
              "      <td>0.0</td>\n",
              "      <td>18.10</td>\n",
              "      <td>0.0</td>\n",
              "      <td>0.713</td>\n",
              "      <td>6.701</td>\n",
              "      <td>90.0</td>\n",
              "      <td>2.5975</td>\n",
              "      <td>24</td>\n",
              "      <td>666</td>\n",
              "      <td>20.2</td>\n",
              "      <td>16.42</td>\n",
              "    </tr>\n",
              "    <tr>\n",
              "      <th>471</th>\n",
              "      <td>4.038410</td>\n",
              "      <td>0.0</td>\n",
              "      <td>18.10</td>\n",
              "      <td>0.0</td>\n",
              "      <td>0.532</td>\n",
              "      <td>6.229</td>\n",
              "      <td>90.7</td>\n",
              "      <td>3.0993</td>\n",
              "      <td>24</td>\n",
              "      <td>666</td>\n",
              "      <td>20.2</td>\n",
              "      <td>12.87</td>\n",
              "    </tr>\n",
              "    <tr>\n",
              "      <th>273</th>\n",
              "      <td>0.221880</td>\n",
              "      <td>20.0</td>\n",
              "      <td>6.96</td>\n",
              "      <td>1.0</td>\n",
              "      <td>0.464</td>\n",
              "      <td>7.691</td>\n",
              "      <td>51.8</td>\n",
              "      <td>4.3665</td>\n",
              "      <td>3</td>\n",
              "      <td>223</td>\n",
              "      <td>18.6</td>\n",
              "      <td>6.58</td>\n",
              "    </tr>\n",
              "  </tbody>\n",
              "</table>\n",
              "</div>\n",
              "      <button class=\"colab-df-convert\" onclick=\"convertToInteractive('df-81b33a27-3a99-40c1-8438-aae0ddefe38d')\"\n",
              "              title=\"Convert this dataframe to an interactive table.\"\n",
              "              style=\"display:none;\">\n",
              "        \n",
              "  <svg xmlns=\"http://www.w3.org/2000/svg\" height=\"24px\"viewBox=\"0 0 24 24\"\n",
              "       width=\"24px\">\n",
              "    <path d=\"M0 0h24v24H0V0z\" fill=\"none\"/>\n",
              "    <path d=\"M18.56 5.44l.94 2.06.94-2.06 2.06-.94-2.06-.94-.94-2.06-.94 2.06-2.06.94zm-11 1L8.5 8.5l.94-2.06 2.06-.94-2.06-.94L8.5 2.5l-.94 2.06-2.06.94zm10 10l.94 2.06.94-2.06 2.06-.94-2.06-.94-.94-2.06-.94 2.06-2.06.94z\"/><path d=\"M17.41 7.96l-1.37-1.37c-.4-.4-.92-.59-1.43-.59-.52 0-1.04.2-1.43.59L10.3 9.45l-7.72 7.72c-.78.78-.78 2.05 0 2.83L4 21.41c.39.39.9.59 1.41.59.51 0 1.02-.2 1.41-.59l7.78-7.78 2.81-2.81c.8-.78.8-2.07 0-2.86zM5.41 20L4 18.59l7.72-7.72 1.47 1.35L5.41 20z\"/>\n",
              "  </svg>\n",
              "      </button>\n",
              "      \n",
              "  <style>\n",
              "    .colab-df-container {\n",
              "      display:flex;\n",
              "      flex-wrap:wrap;\n",
              "      gap: 12px;\n",
              "    }\n",
              "\n",
              "    .colab-df-convert {\n",
              "      background-color: #E8F0FE;\n",
              "      border: none;\n",
              "      border-radius: 50%;\n",
              "      cursor: pointer;\n",
              "      display: none;\n",
              "      fill: #1967D2;\n",
              "      height: 32px;\n",
              "      padding: 0 0 0 0;\n",
              "      width: 32px;\n",
              "    }\n",
              "\n",
              "    .colab-df-convert:hover {\n",
              "      background-color: #E2EBFA;\n",
              "      box-shadow: 0px 1px 2px rgba(60, 64, 67, 0.3), 0px 1px 3px 1px rgba(60, 64, 67, 0.15);\n",
              "      fill: #174EA6;\n",
              "    }\n",
              "\n",
              "    [theme=dark] .colab-df-convert {\n",
              "      background-color: #3B4455;\n",
              "      fill: #D2E3FC;\n",
              "    }\n",
              "\n",
              "    [theme=dark] .colab-df-convert:hover {\n",
              "      background-color: #434B5C;\n",
              "      box-shadow: 0px 1px 3px 1px rgba(0, 0, 0, 0.15);\n",
              "      filter: drop-shadow(0px 1px 2px rgba(0, 0, 0, 0.3));\n",
              "      fill: #FFFFFF;\n",
              "    }\n",
              "  </style>\n",
              "\n",
              "      <script>\n",
              "        const buttonEl =\n",
              "          document.querySelector('#df-81b33a27-3a99-40c1-8438-aae0ddefe38d button.colab-df-convert');\n",
              "        buttonEl.style.display =\n",
              "          google.colab.kernel.accessAllowed ? 'block' : 'none';\n",
              "\n",
              "        async function convertToInteractive(key) {\n",
              "          const element = document.querySelector('#df-81b33a27-3a99-40c1-8438-aae0ddefe38d');\n",
              "          const dataTable =\n",
              "            await google.colab.kernel.invokeFunction('convertToInteractive',\n",
              "                                                     [key], {});\n",
              "          if (!dataTable) return;\n",
              "\n",
              "          const docLinkHtml = 'Like what you see? Visit the ' +\n",
              "            '<a target=\"_blank\" href=https://colab.research.google.com/notebooks/data_table.ipynb>data table notebook</a>'\n",
              "            + ' to learn more about interactive tables.';\n",
              "          element.innerHTML = '';\n",
              "          dataTable['output_type'] = 'display_data';\n",
              "          await google.colab.output.renderOutput(dataTable, element);\n",
              "          const docLink = document.createElement('div');\n",
              "          docLink.innerHTML = docLinkHtml;\n",
              "          element.appendChild(docLink);\n",
              "        }\n",
              "      </script>\n",
              "    </div>\n",
              "  </div>\n",
              "  "
            ]
          },
          "metadata": {},
          "execution_count": 5
        }
      ]
    },
    {
      "cell_type": "code",
      "source": [
        "from sklearn.preprocessing import StandardScaler \n",
        "scaler = StandardScaler() \n",
        "scaler.fit (train_data)\n",
        "train_data_normalized = scaler.transform(train_data)\n",
        "test_data_normalized = scaler.transform(test_data)"
      ],
      "metadata": {
        "id": "I7FSxAyOmGj_"
      },
      "execution_count": null,
      "outputs": []
    },
    {
      "cell_type": "code",
      "source": [
        "#0. import libraries\n",
        "import sklearn\n",
        "import pandas\n",
        "from sklearn import tree\n",
        "from sklearn.model_selection import train_test_split\n",
        "from sklearn import metrics\n",
        "from sklearn import neighbors\n"
      ],
      "metadata": {
        "id": "KEUKCkAgkuVw"
      },
      "execution_count": null,
      "outputs": []
    },
    {
      "cell_type": "code",
      "source": [
        "from sklearn import neighbors\n",
        "from sklearn import metrics\n",
        "\n",
        "# create our model\n",
        "neigh = neighbors.KNeighborsRegressor(n_neighbors = 3) ### Don't miss this! Doing Regression here!!\n",
        "\n",
        "# fit (train) the model to the data\n",
        "neigh.fit(train_data_normalized, train_sln)\n",
        "\n",
        "# use the trained model to get predictions from our test_data\n",
        "predictions = neigh.predict(test_data_normalized)\n",
        "\n",
        "# use a metric to see how good our predictions are; Don't miss this! Using Regression metrics here!!\n",
        "print('MSE: ', metrics.mean_squared_error(test_sln, predictions))\n",
        "print('r2: ', metrics.r2_score(test_sln, predictions))"
      ],
      "metadata": {
        "colab": {
          "base_uri": "https://localhost:8080/"
        },
        "id": "tUMjwtZykERX",
        "outputId": "20549581-f2fd-4a4e-a4c4-5fc3cdd00fd3"
      },
      "execution_count": null,
      "outputs": [
        {
          "output_type": "stream",
          "name": "stdout",
          "text": [
            "MSE:  18.392461873638347\n",
            "r2:  0.6038747284056944\n"
          ]
        }
      ]
    },
    {
      "cell_type": "code",
      "metadata": {
        "id": "MpuWbT-NOUx8",
        "colab": {
          "base_uri": "https://localhost:8080/"
        },
        "outputId": "b96c1d65-4ee9-42c7-8d35-5c6329d88cb4"
      },
      "source": [
        "# kNN with large k\n",
        "from sklearn import neighbors\n",
        "from sklearn import metrics\n",
        "\n",
        "# create our model\n",
        "neigh = neighbors.KNeighborsRegressor(n_neighbors = 100) ### Don't miss this! Doing Regression here!!\n",
        "\n",
        "# fit (train) the model to the data\n",
        "neigh.fit(train_data_normalized, train_sln)\n",
        "\n",
        "# use the trained model to get predictions from our test_data\n",
        "predictions = neigh.predict(test_data_normalized)\n",
        "\n",
        "# use a metric to see how good our predictions are; Don't miss this! Using Regression metrics here!!\n",
        "print('MSE: ', metrics.mean_squared_error(test_sln, predictions))\n",
        "print('r2: ', metrics.r2_score(test_sln, predictions))\n"
      ],
      "execution_count": null,
      "outputs": [
        {
          "output_type": "stream",
          "name": "stdout",
          "text": [
            "MSE:  20.94221431372549\n",
            "r2:  0.5489597646141744\n"
          ]
        }
      ]
    },
    {
      "cell_type": "code",
      "metadata": {
        "id": "o1q07BzTOjnE",
        "colab": {
          "base_uri": "https://localhost:8080/"
        },
        "outputId": "8bb3ad1c-a2e0-4a56-ccf3-6f50a96fbcde"
      },
      "source": [
        "# kNN with large k\n",
        "# create our model\n",
        "neigh = neighbors.KNeighborsRegressor(n_neighbors = 10) ### Don't miss this! Doing Regression here!!\n",
        "\n",
        "# fit (train) the model to the data\n",
        "neigh.fit(train_data_normalized, train_sln)\n",
        "\n",
        "# use the trained model to get predictions from our test_data\n",
        "predictions = neigh.predict(test_data_normalized)\n",
        "\n",
        "# use a metric to see how good our predictions are; Don't miss this! Using Regression metrics here!!\n",
        "print('MSE: ', metrics.mean_squared_error(test_sln, predictions))\n",
        "print('r2: ', metrics.r2_score(test_sln, predictions))\n"
      ],
      "execution_count": null,
      "outputs": [
        {
          "output_type": "stream",
          "name": "stdout",
          "text": [
            "MSE:  16.112830392156866\n",
            "r2:  0.6529719969465126\n"
          ]
        }
      ]
    },
    {
      "cell_type": "code",
      "metadata": {
        "id": "m0Wc76gfOnQL",
        "colab": {
          "base_uri": "https://localhost:8080/"
        },
        "outputId": "8b2bf7b3-84a9-4fc1-beff-bcc3c93201cd"
      },
      "source": [
        "# w-knn with small k\n",
        "# weighted\n",
        "neigh = neighbors.KNeighborsRegressor(weights = \"distance\", n_neighbors=3)\n",
        "#4. Call fit (to train the classification/regression model)\n",
        "neigh.fit(train_data_normalized,train_sln)\n",
        "#5. Call predict to generate predictions\n",
        "housing_predictions = neigh.predict(test_data_normalized)\n",
        "#6. Call a metric function to measure performance\n",
        "\n",
        "print('MSE: ', metrics.mean_squared_error(test_sln, housing_predictions))\n",
        "print('r2: ', metrics.r2_score(test_sln, housing_predictions))"
      ],
      "execution_count": null,
      "outputs": [
        {
          "output_type": "stream",
          "name": "stdout",
          "text": [
            "MSE:  17.38638855206955\n",
            "r2:  0.6255429026005495\n"
          ]
        }
      ]
    },
    {
      "cell_type": "code",
      "metadata": {
        "id": "k5rFt9wkOqKF",
        "colab": {
          "base_uri": "https://localhost:8080/"
        },
        "outputId": "1b8e7c85-d2a0-4be3-c661-8a70e0260524"
      },
      "source": [
        "# w-knn with large k\n",
        "\n",
        "# w-knn with small k\n",
        "# weighted\n",
        "neigh = neighbors.KNeighborsRegressor(weights = \"distance\", n_neighbors=100)\n",
        "#4. Call fit (to train the classification/regression model)\n",
        "neigh.fit(train_data_normalized,train_sln)\n",
        "#5. Call predict to generate predictions\n",
        "housing_predictions = neigh.predict(test_data_normalized)\n",
        "#6. Call a metric function to measure performance\n",
        "\n",
        "print('MSE: ', metrics.mean_squared_error(test_sln, housing_predictions))\n",
        "print('r2: ', metrics.r2_score(test_sln, housing_predictions))"
      ],
      "execution_count": null,
      "outputs": [
        {
          "output_type": "stream",
          "name": "stdout",
          "text": [
            "MSE:  18.3251267534112\n",
            "r2:  0.6053249498589761\n"
          ]
        }
      ]
    },
    {
      "cell_type": "code",
      "metadata": {
        "id": "S5kncBKlOrhc",
        "colab": {
          "base_uri": "https://localhost:8080/"
        },
        "outputId": "4359651a-f72c-4d0f-dd05-2733c969e555"
      },
      "source": [
        "# decision tree with default paramters\n",
        "#3. Create classifier/regressor object (change these parameters for Exercise #1)\n",
        "dt = tree.DecisionTreeRegressor(random_state = 0,)\n",
        "\n",
        "#4. Call fit (to train the classification/regression model)\n",
        "dt.fit(train_data_normalized,train_sln)\n",
        "\n",
        "#5. Call predict to generate predictions\n",
        "housing_predictions = dt.predict(test_data_normalized)\n",
        "\n",
        "#6. Call a metric function to measure performance\n",
        "print(\"r2\", metrics.r2_score(test_sln,housing_predictions))\n",
        "\n"
      ],
      "execution_count": null,
      "outputs": [
        {
          "output_type": "stream",
          "name": "stdout",
          "text": [
            "r2 -0.10910069428832392\n"
          ]
        }
      ]
    },
    {
      "cell_type": "code",
      "metadata": {
        "id": "7QDjUeiyOt53",
        "colab": {
          "base_uri": "https://localhost:8080/"
        },
        "outputId": "16f2cb16-ab54-4b43-a8a3-3d9f6381d81e"
      },
      "source": [
        "# decision tree with some kind of parameter that (hopefully) results in a smaller tree\n",
        "# decision tree with default paramters\n",
        "#3. Create classifier/regressor object (change these parameters for Exercise #1)\n",
        "dt = tree.DecisionTreeRegressor(random_state = 0, max_depth=2, min_samples_split= 2 ) #If None, then nodes are expanded until all leaves are pure or until all leaves contain less\n",
        "\n",
        "#4. Call fit (to train the classification/regression model)\n",
        "dt.fit(train_data_normalized,train_sln)\n",
        "\n",
        "#5. Call predict to generate predictions\n",
        "housing_predictions = dt.predict(test_data_normalized)\n",
        "\n",
        "#6. Call a metric function to measure performance\n",
        "\n",
        "print(\"r2\", metrics.r2_score(test_sln,housing_predictions))"
      ],
      "execution_count": null,
      "outputs": [
        {
          "output_type": "stream",
          "name": "stdout",
          "text": [
            "r2 0.23044162693012993\n"
          ]
        }
      ]
    },
    {
      "cell_type": "markdown",
      "metadata": {
        "id": "O_1BW2sPPNro"
      },
      "source": [
        "## Part 3: Conclusions\n",
        "What algorithm performed better? kNN or Decision Trees? Why do you think this was the case?"
      ]
    },
    {
      "cell_type": "markdown",
      "source": [
        "\n",
        "The Knn algorithm utilizes all the different predictor columns the algorithm is able to handle more data columns and out put predictor columns which is better in this particular case of data.  In contrast to the decision tree where you are going line by line in the data which isnt nearly as good as the KNN algorithm. When comparing the two the outcome (r^2) when using the KNN algorithm was much higher and closer to 1 which is what we want. So just based off analyzing the two it is clear the KNN performed much better than the decision tree in this case. "
      ],
      "metadata": {
        "id": "k9Ym9oL116Qy"
      }
    }
  ]
}