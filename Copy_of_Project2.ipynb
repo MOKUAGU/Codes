{
  "nbformat": 4,
  "nbformat_minor": 0,
  "metadata": {
    "colab": {
      "provenance": [],
      "include_colab_link": true
    },
    "kernelspec": {
      "name": "python3",
      "display_name": "Python 3"
    },
    "language_info": {
      "name": "python"
    },
    "gpuClass": "standard"
  },
  "cells": [
    {
      "cell_type": "markdown",
      "metadata": {
        "id": "view-in-github",
        "colab_type": "text"
      },
      "source": [
        "<a href=\"https://colab.research.google.com/github/MOKUAGU/Codes/blob/main/Copy_of_Project2.ipynb\" target=\"_parent\"><img src=\"https://colab.research.google.com/assets/colab-badge.svg\" alt=\"Open In Colab\"/></a>"
      ]
    },
    {
      "cell_type": "markdown",
      "source": [
        "# Project #2\n",
        "##Name: MUNACHI OKUAGU\n",
        "\n",
        "Proposed Points (23.5 of 25):"
      ],
      "metadata": {
        "id": "rIepkBIuT_Pl"
      }
    },
    {
      "cell_type": "markdown",
      "source": [
        "# 1. Problem\n",
        "State the problem you are trying to solve with this machine learning experiment. Include a description of the data, where you got the data, and what you're trying to predict..\n",
        "\n",
        "The data I will be using contains different factors that affect a countries GDP the countries are european countries. The factors include the employment and unemployment rate in each country. The GDP breakdown by every quarter, inflation, interest per country, how a much a country is in debt, and the population (millions). \n",
        "The problem I am looking to solve is which algorithm will do the best trying to predict a countries GDP based off the given information in the data set. In this project I will be using the KNN algorithm, Decision trees, and random forests and test which one has the highest performance. \n",
        "\n",
        "I got the data from: https://www.kaggle.com/datasets/hanzlanawaz/economy-of-europe-2022 "
      ],
      "metadata": {
        "id": "HbwKLNhzP8YO"
      }
    },
    {
      "cell_type": "markdown",
      "source": [
        "# 2. Data Preparation\n",
        "Explain your data preparation. What did you have to do to get your data in shape for your experiments? Why are you certain that you data is clean and prepared for use in your algorithms?"
      ],
      "metadata": {
        "id": "qR_foVOeQVL7"
      }
    },
    {
      "cell_type": "markdown",
      "source": [
        "*your answer here*"
      ],
      "metadata": {
        "id": "aMDJDnW_mOWu"
      }
    },
    {
      "cell_type": "code",
      "source": [
        "# load and prepare your data here"
      ],
      "metadata": {
        "id": "9dUdBChRmKxR"
      },
      "execution_count": null,
      "outputs": []
    },
    {
      "cell_type": "code",
      "source": [
        "from google.colab import drive\n",
        "drive.mount('/content/drive')"
      ],
      "metadata": {
        "colab": {
          "base_uri": "https://localhost:8080/"
        },
        "id": "upoKy_Mn8DHf",
        "outputId": "51271bd6-1086-47a7-9125-f04641d85e2c"
      },
      "execution_count": null,
      "outputs": [
        {
          "output_type": "stream",
          "name": "stdout",
          "text": [
            "Mounted at /content/drive\n"
          ]
        }
      ]
    },
    {
      "cell_type": "code",
      "source": [
        "# import libraries\n",
        "import sklearn\n",
        "import pandas as pd \n",
        "from sklearn import tree\n",
        "from sklearn.model_selection import train_test_split\n",
        "from sklearn import metrics\n",
        "from sklearn import neighbors\n",
        "from sklearn.dummy import DummyClassifier\n",
        "\n",
        "# load data\n",
        "economic_data = pd.read_csv('/content/drive/MyDrive/CS167DATASETS/Economy_Indicators - Economy_Indicators.csv')\n",
        "economic_data.head()"
      ],
      "metadata": {
        "colab": {
          "base_uri": "https://localhost:8080/",
          "height": 285
        },
        "id": "Luk3hyJQ8GUO",
        "outputId": "aacbd6dd-bf58-4d44-aa5a-660ddaa7b5b7"
      },
      "execution_count": null,
      "outputs": [
        {
          "output_type": "execute_result",
          "data": {
            "text/plain": [
              "          Country    GDP  GDP Year-over-Year  GDP Quarter-over-Quarterr  \\\n",
              "0       Euro Area  14493                 4.1                        0.8   \n",
              "1         Germany   4223                 1.7                        0.1   \n",
              "2  United Kingdom   3187                 4.4                        0.2   \n",
              "3          France   2937                 4.2                        0.5   \n",
              "4           Italy   2100                 5.0                        1.1   \n",
              "\n",
              "   Interest Rate  Inflation Rate  Jobless Rate  Gov. Budget  Debt/GDP  \\\n",
              "0           1.25            10.0           6.6         -5.1      95.6   \n",
              "1           1.25            10.0           5.5         -3.7      69.3   \n",
              "2           2.25             9.9           3.5         -6.0      95.9   \n",
              "3           1.25             5.6           7.4         -6.5     112.9   \n",
              "4           1.25             8.9           7.8         -7.2     150.8   \n",
              "\n",
              "   Current Account  Population  \n",
              "0              2.5      342.56  \n",
              "1              7.4       83.16  \n",
              "2             -2.6       67.53  \n",
              "3              0.4       67.63  \n",
              "4              2.5       59.24  "
            ],
            "text/html": [
              "\n",
              "  <div id=\"df-fc562398-6a16-4897-b699-b79cb317daec\">\n",
              "    <div class=\"colab-df-container\">\n",
              "      <div>\n",
              "<style scoped>\n",
              "    .dataframe tbody tr th:only-of-type {\n",
              "        vertical-align: middle;\n",
              "    }\n",
              "\n",
              "    .dataframe tbody tr th {\n",
              "        vertical-align: top;\n",
              "    }\n",
              "\n",
              "    .dataframe thead th {\n",
              "        text-align: right;\n",
              "    }\n",
              "</style>\n",
              "<table border=\"1\" class=\"dataframe\">\n",
              "  <thead>\n",
              "    <tr style=\"text-align: right;\">\n",
              "      <th></th>\n",
              "      <th>Country</th>\n",
              "      <th>GDP</th>\n",
              "      <th>GDP Year-over-Year</th>\n",
              "      <th>GDP Quarter-over-Quarterr</th>\n",
              "      <th>Interest Rate</th>\n",
              "      <th>Inflation Rate</th>\n",
              "      <th>Jobless Rate</th>\n",
              "      <th>Gov. Budget</th>\n",
              "      <th>Debt/GDP</th>\n",
              "      <th>Current Account</th>\n",
              "      <th>Population</th>\n",
              "    </tr>\n",
              "  </thead>\n",
              "  <tbody>\n",
              "    <tr>\n",
              "      <th>0</th>\n",
              "      <td>Euro Area</td>\n",
              "      <td>14493</td>\n",
              "      <td>4.1</td>\n",
              "      <td>0.8</td>\n",
              "      <td>1.25</td>\n",
              "      <td>10.0</td>\n",
              "      <td>6.6</td>\n",
              "      <td>-5.1</td>\n",
              "      <td>95.6</td>\n",
              "      <td>2.5</td>\n",
              "      <td>342.56</td>\n",
              "    </tr>\n",
              "    <tr>\n",
              "      <th>1</th>\n",
              "      <td>Germany</td>\n",
              "      <td>4223</td>\n",
              "      <td>1.7</td>\n",
              "      <td>0.1</td>\n",
              "      <td>1.25</td>\n",
              "      <td>10.0</td>\n",
              "      <td>5.5</td>\n",
              "      <td>-3.7</td>\n",
              "      <td>69.3</td>\n",
              "      <td>7.4</td>\n",
              "      <td>83.16</td>\n",
              "    </tr>\n",
              "    <tr>\n",
              "      <th>2</th>\n",
              "      <td>United Kingdom</td>\n",
              "      <td>3187</td>\n",
              "      <td>4.4</td>\n",
              "      <td>0.2</td>\n",
              "      <td>2.25</td>\n",
              "      <td>9.9</td>\n",
              "      <td>3.5</td>\n",
              "      <td>-6.0</td>\n",
              "      <td>95.9</td>\n",
              "      <td>-2.6</td>\n",
              "      <td>67.53</td>\n",
              "    </tr>\n",
              "    <tr>\n",
              "      <th>3</th>\n",
              "      <td>France</td>\n",
              "      <td>2937</td>\n",
              "      <td>4.2</td>\n",
              "      <td>0.5</td>\n",
              "      <td>1.25</td>\n",
              "      <td>5.6</td>\n",
              "      <td>7.4</td>\n",
              "      <td>-6.5</td>\n",
              "      <td>112.9</td>\n",
              "      <td>0.4</td>\n",
              "      <td>67.63</td>\n",
              "    </tr>\n",
              "    <tr>\n",
              "      <th>4</th>\n",
              "      <td>Italy</td>\n",
              "      <td>2100</td>\n",
              "      <td>5.0</td>\n",
              "      <td>1.1</td>\n",
              "      <td>1.25</td>\n",
              "      <td>8.9</td>\n",
              "      <td>7.8</td>\n",
              "      <td>-7.2</td>\n",
              "      <td>150.8</td>\n",
              "      <td>2.5</td>\n",
              "      <td>59.24</td>\n",
              "    </tr>\n",
              "  </tbody>\n",
              "</table>\n",
              "</div>\n",
              "      <button class=\"colab-df-convert\" onclick=\"convertToInteractive('df-fc562398-6a16-4897-b699-b79cb317daec')\"\n",
              "              title=\"Convert this dataframe to an interactive table.\"\n",
              "              style=\"display:none;\">\n",
              "        \n",
              "  <svg xmlns=\"http://www.w3.org/2000/svg\" height=\"24px\"viewBox=\"0 0 24 24\"\n",
              "       width=\"24px\">\n",
              "    <path d=\"M0 0h24v24H0V0z\" fill=\"none\"/>\n",
              "    <path d=\"M18.56 5.44l.94 2.06.94-2.06 2.06-.94-2.06-.94-.94-2.06-.94 2.06-2.06.94zm-11 1L8.5 8.5l.94-2.06 2.06-.94-2.06-.94L8.5 2.5l-.94 2.06-2.06.94zm10 10l.94 2.06.94-2.06 2.06-.94-2.06-.94-.94-2.06-.94 2.06-2.06.94z\"/><path d=\"M17.41 7.96l-1.37-1.37c-.4-.4-.92-.59-1.43-.59-.52 0-1.04.2-1.43.59L10.3 9.45l-7.72 7.72c-.78.78-.78 2.05 0 2.83L4 21.41c.39.39.9.59 1.41.59.51 0 1.02-.2 1.41-.59l7.78-7.78 2.81-2.81c.8-.78.8-2.07 0-2.86zM5.41 20L4 18.59l7.72-7.72 1.47 1.35L5.41 20z\"/>\n",
              "  </svg>\n",
              "      </button>\n",
              "      \n",
              "  <style>\n",
              "    .colab-df-container {\n",
              "      display:flex;\n",
              "      flex-wrap:wrap;\n",
              "      gap: 12px;\n",
              "    }\n",
              "\n",
              "    .colab-df-convert {\n",
              "      background-color: #E8F0FE;\n",
              "      border: none;\n",
              "      border-radius: 50%;\n",
              "      cursor: pointer;\n",
              "      display: none;\n",
              "      fill: #1967D2;\n",
              "      height: 32px;\n",
              "      padding: 0 0 0 0;\n",
              "      width: 32px;\n",
              "    }\n",
              "\n",
              "    .colab-df-convert:hover {\n",
              "      background-color: #E2EBFA;\n",
              "      box-shadow: 0px 1px 2px rgba(60, 64, 67, 0.3), 0px 1px 3px 1px rgba(60, 64, 67, 0.15);\n",
              "      fill: #174EA6;\n",
              "    }\n",
              "\n",
              "    [theme=dark] .colab-df-convert {\n",
              "      background-color: #3B4455;\n",
              "      fill: #D2E3FC;\n",
              "    }\n",
              "\n",
              "    [theme=dark] .colab-df-convert:hover {\n",
              "      background-color: #434B5C;\n",
              "      box-shadow: 0px 1px 3px 1px rgba(0, 0, 0, 0.15);\n",
              "      filter: drop-shadow(0px 1px 2px rgba(0, 0, 0, 0.3));\n",
              "      fill: #FFFFFF;\n",
              "    }\n",
              "  </style>\n",
              "\n",
              "      <script>\n",
              "        const buttonEl =\n",
              "          document.querySelector('#df-fc562398-6a16-4897-b699-b79cb317daec button.colab-df-convert');\n",
              "        buttonEl.style.display =\n",
              "          google.colab.kernel.accessAllowed ? 'block' : 'none';\n",
              "\n",
              "        async function convertToInteractive(key) {\n",
              "          const element = document.querySelector('#df-fc562398-6a16-4897-b699-b79cb317daec');\n",
              "          const dataTable =\n",
              "            await google.colab.kernel.invokeFunction('convertToInteractive',\n",
              "                                                     [key], {});\n",
              "          if (!dataTable) return;\n",
              "\n",
              "          const docLinkHtml = 'Like what you see? Visit the ' +\n",
              "            '<a target=\"_blank\" href=https://colab.research.google.com/notebooks/data_table.ipynb>data table notebook</a>'\n",
              "            + ' to learn more about interactive tables.';\n",
              "          element.innerHTML = '';\n",
              "          dataTable['output_type'] = 'display_data';\n",
              "          await google.colab.output.renderOutput(dataTable, element);\n",
              "          const docLink = document.createElement('div');\n",
              "          docLink.innerHTML = docLinkHtml;\n",
              "          element.appendChild(docLink);\n",
              "        }\n",
              "      </script>\n",
              "    </div>\n",
              "  </div>\n",
              "  "
            ]
          },
          "metadata": {},
          "execution_count": 2
        }
      ]
    },
    {
      "cell_type": "markdown",
      "source": [
        "after loading in the data I want to take a look at the columns that I do not need and columns that have null values. I went ahead and dropped the country coliumn because I am looking to predict the GDP and the country column was not necessary to the running of this code. (also doing regression throughout the whole project so the column again is not needed) "
      ],
      "metadata": {
        "id": "fpVN2ZHazxJP"
      }
    },
    {
      "cell_type": "code",
      "source": [
        "countries = economic_data.copy()\n",
        "\n",
        "countries.drop(columns=[\"Country\"],inplace = True)\n",
        "\n",
        "interest_mean = countries['Interest Rate'].mean()\n",
        "q_mean = countries['GDP Quarter-over-Quarterr'].mean()\n",
        "countries['Interest Rate'].fillna(interest_mean, inplace=True)\n",
        "countries['GDP Quarter-over-Quarterr'].fillna(q_mean, inplace=True)\n",
        "\n",
        "#countries = pd.get_dummies(countries, columns=['Country'])\n",
        "print(countries.isna().any())"
      ],
      "metadata": {
        "id": "I_ezn1G382Wm",
        "colab": {
          "base_uri": "https://localhost:8080/"
        },
        "outputId": "dde4bd79-2d05-4647-f3d8-225c455684d8"
      },
      "execution_count": null,
      "outputs": [
        {
          "output_type": "stream",
          "name": "stdout",
          "text": [
            "GDP                          False\n",
            "GDP Year-over-Year           False\n",
            "GDP Quarter-over-Quarterr    False\n",
            "Interest Rate                False\n",
            "Inflation Rate               False\n",
            "Jobless Rate                 False\n",
            "Gov. Budget                  False\n",
            "Debt/GDP                     False\n",
            "Current Account              False\n",
            "Population                   False\n",
            "dtype: bool\n"
          ]
        }
      ]
    },
    {
      "cell_type": "code",
      "source": [
        "target_value= 'GDP'\n",
        "predictors = countries.columns.drop(target_value) \n",
        "train_data, test_data, train_sln, test_sln = train_test_split(countries[predictors], countries[target_value], test_size = 0.2, random_state=41)\n",
        "train_data.head()"
      ],
      "metadata": {
        "id": "5XK8wtDIEcqO",
        "colab": {
          "base_uri": "https://localhost:8080/",
          "height": 250
        },
        "outputId": "2c23a450-4045-4e90-9976-4701ccbd5730"
      },
      "execution_count": null,
      "outputs": [
        {
          "output_type": "execute_result",
          "data": {
            "text/plain": [
              "    GDP Year-over-Year  GDP Quarter-over-Quarterr  Interest Rate  \\\n",
              "15                 6.0                        1.5           1.25   \n",
              "36                 5.9                        1.5           3.63   \n",
              "4                  5.0                        1.1           1.25   \n",
              "14                 3.9                        0.7           2.25   \n",
              "32                 2.9                       -1.0           1.25   \n",
              "\n",
              "    Inflation Rate  Jobless Rate  Gov. Budget  Debt/GDP  Current Account  \\\n",
              "15            10.5          5.70         -5.9      82.8             -0.5   \n",
              "36            16.8         30.17         -0.3      24.8             -2.1   \n",
              "4              8.9          7.80         -7.2     150.8              2.5   \n",
              "14             6.9          3.30          9.1      43.2             15.0   \n",
              "32            22.2          6.60         -7.3      44.8             -2.9   \n",
              "\n",
              "    Population  \n",
              "15        8.93  \n",
              "36        3.46  \n",
              "4        59.24  \n",
              "14        5.43  \n",
              "32        1.89  "
            ],
            "text/html": [
              "\n",
              "  <div id=\"df-b2a9fdac-8251-4b21-ae52-31c1e200d01e\">\n",
              "    <div class=\"colab-df-container\">\n",
              "      <div>\n",
              "<style scoped>\n",
              "    .dataframe tbody tr th:only-of-type {\n",
              "        vertical-align: middle;\n",
              "    }\n",
              "\n",
              "    .dataframe tbody tr th {\n",
              "        vertical-align: top;\n",
              "    }\n",
              "\n",
              "    .dataframe thead th {\n",
              "        text-align: right;\n",
              "    }\n",
              "</style>\n",
              "<table border=\"1\" class=\"dataframe\">\n",
              "  <thead>\n",
              "    <tr style=\"text-align: right;\">\n",
              "      <th></th>\n",
              "      <th>GDP Year-over-Year</th>\n",
              "      <th>GDP Quarter-over-Quarterr</th>\n",
              "      <th>Interest Rate</th>\n",
              "      <th>Inflation Rate</th>\n",
              "      <th>Jobless Rate</th>\n",
              "      <th>Gov. Budget</th>\n",
              "      <th>Debt/GDP</th>\n",
              "      <th>Current Account</th>\n",
              "      <th>Population</th>\n",
              "    </tr>\n",
              "  </thead>\n",
              "  <tbody>\n",
              "    <tr>\n",
              "      <th>15</th>\n",
              "      <td>6.0</td>\n",
              "      <td>1.5</td>\n",
              "      <td>1.25</td>\n",
              "      <td>10.5</td>\n",
              "      <td>5.70</td>\n",
              "      <td>-5.9</td>\n",
              "      <td>82.8</td>\n",
              "      <td>-0.5</td>\n",
              "      <td>8.93</td>\n",
              "    </tr>\n",
              "    <tr>\n",
              "      <th>36</th>\n",
              "      <td>5.9</td>\n",
              "      <td>1.5</td>\n",
              "      <td>3.63</td>\n",
              "      <td>16.8</td>\n",
              "      <td>30.17</td>\n",
              "      <td>-0.3</td>\n",
              "      <td>24.8</td>\n",
              "      <td>-2.1</td>\n",
              "      <td>3.46</td>\n",
              "    </tr>\n",
              "    <tr>\n",
              "      <th>4</th>\n",
              "      <td>5.0</td>\n",
              "      <td>1.1</td>\n",
              "      <td>1.25</td>\n",
              "      <td>8.9</td>\n",
              "      <td>7.80</td>\n",
              "      <td>-7.2</td>\n",
              "      <td>150.8</td>\n",
              "      <td>2.5</td>\n",
              "      <td>59.24</td>\n",
              "    </tr>\n",
              "    <tr>\n",
              "      <th>14</th>\n",
              "      <td>3.9</td>\n",
              "      <td>0.7</td>\n",
              "      <td>2.25</td>\n",
              "      <td>6.9</td>\n",
              "      <td>3.30</td>\n",
              "      <td>9.1</td>\n",
              "      <td>43.2</td>\n",
              "      <td>15.0</td>\n",
              "      <td>5.43</td>\n",
              "    </tr>\n",
              "    <tr>\n",
              "      <th>32</th>\n",
              "      <td>2.9</td>\n",
              "      <td>-1.0</td>\n",
              "      <td>1.25</td>\n",
              "      <td>22.2</td>\n",
              "      <td>6.60</td>\n",
              "      <td>-7.3</td>\n",
              "      <td>44.8</td>\n",
              "      <td>-2.9</td>\n",
              "      <td>1.89</td>\n",
              "    </tr>\n",
              "  </tbody>\n",
              "</table>\n",
              "</div>\n",
              "      <button class=\"colab-df-convert\" onclick=\"convertToInteractive('df-b2a9fdac-8251-4b21-ae52-31c1e200d01e')\"\n",
              "              title=\"Convert this dataframe to an interactive table.\"\n",
              "              style=\"display:none;\">\n",
              "        \n",
              "  <svg xmlns=\"http://www.w3.org/2000/svg\" height=\"24px\"viewBox=\"0 0 24 24\"\n",
              "       width=\"24px\">\n",
              "    <path d=\"M0 0h24v24H0V0z\" fill=\"none\"/>\n",
              "    <path d=\"M18.56 5.44l.94 2.06.94-2.06 2.06-.94-2.06-.94-.94-2.06-.94 2.06-2.06.94zm-11 1L8.5 8.5l.94-2.06 2.06-.94-2.06-.94L8.5 2.5l-.94 2.06-2.06.94zm10 10l.94 2.06.94-2.06 2.06-.94-2.06-.94-.94-2.06-.94 2.06-2.06.94z\"/><path d=\"M17.41 7.96l-1.37-1.37c-.4-.4-.92-.59-1.43-.59-.52 0-1.04.2-1.43.59L10.3 9.45l-7.72 7.72c-.78.78-.78 2.05 0 2.83L4 21.41c.39.39.9.59 1.41.59.51 0 1.02-.2 1.41-.59l7.78-7.78 2.81-2.81c.8-.78.8-2.07 0-2.86zM5.41 20L4 18.59l7.72-7.72 1.47 1.35L5.41 20z\"/>\n",
              "  </svg>\n",
              "      </button>\n",
              "      \n",
              "  <style>\n",
              "    .colab-df-container {\n",
              "      display:flex;\n",
              "      flex-wrap:wrap;\n",
              "      gap: 12px;\n",
              "    }\n",
              "\n",
              "    .colab-df-convert {\n",
              "      background-color: #E8F0FE;\n",
              "      border: none;\n",
              "      border-radius: 50%;\n",
              "      cursor: pointer;\n",
              "      display: none;\n",
              "      fill: #1967D2;\n",
              "      height: 32px;\n",
              "      padding: 0 0 0 0;\n",
              "      width: 32px;\n",
              "    }\n",
              "\n",
              "    .colab-df-convert:hover {\n",
              "      background-color: #E2EBFA;\n",
              "      box-shadow: 0px 1px 2px rgba(60, 64, 67, 0.3), 0px 1px 3px 1px rgba(60, 64, 67, 0.15);\n",
              "      fill: #174EA6;\n",
              "    }\n",
              "\n",
              "    [theme=dark] .colab-df-convert {\n",
              "      background-color: #3B4455;\n",
              "      fill: #D2E3FC;\n",
              "    }\n",
              "\n",
              "    [theme=dark] .colab-df-convert:hover {\n",
              "      background-color: #434B5C;\n",
              "      box-shadow: 0px 1px 3px 1px rgba(0, 0, 0, 0.15);\n",
              "      filter: drop-shadow(0px 1px 2px rgba(0, 0, 0, 0.3));\n",
              "      fill: #FFFFFF;\n",
              "    }\n",
              "  </style>\n",
              "\n",
              "      <script>\n",
              "        const buttonEl =\n",
              "          document.querySelector('#df-b2a9fdac-8251-4b21-ae52-31c1e200d01e button.colab-df-convert');\n",
              "        buttonEl.style.display =\n",
              "          google.colab.kernel.accessAllowed ? 'block' : 'none';\n",
              "\n",
              "        async function convertToInteractive(key) {\n",
              "          const element = document.querySelector('#df-b2a9fdac-8251-4b21-ae52-31c1e200d01e');\n",
              "          const dataTable =\n",
              "            await google.colab.kernel.invokeFunction('convertToInteractive',\n",
              "                                                     [key], {});\n",
              "          if (!dataTable) return;\n",
              "\n",
              "          const docLinkHtml = 'Like what you see? Visit the ' +\n",
              "            '<a target=\"_blank\" href=https://colab.research.google.com/notebooks/data_table.ipynb>data table notebook</a>'\n",
              "            + ' to learn more about interactive tables.';\n",
              "          element.innerHTML = '';\n",
              "          dataTable['output_type'] = 'display_data';\n",
              "          await google.colab.output.renderOutput(dataTable, element);\n",
              "          const docLink = document.createElement('div');\n",
              "          docLink.innerHTML = docLinkHtml;\n",
              "          element.appendChild(docLink);\n",
              "        }\n",
              "      </script>\n",
              "    </div>\n",
              "  </div>\n",
              "  "
            ]
          },
          "metadata": {},
          "execution_count": 4
        }
      ]
    },
    {
      "cell_type": "markdown",
      "source": [
        "made note of my target value, what I am looking to predict is the GDP "
      ],
      "metadata": {
        "id": "1zcgr2QZ3PVQ"
      }
    },
    {
      "cell_type": "markdown",
      "source": [
        "Need to normalize the data to make sure that they carry the equal weight to optimize the predictions. "
      ],
      "metadata": {
        "id": "hRBTqnfKExy2"
      }
    },
    {
      "cell_type": "code",
      "source": [
        "#normalize the data \n",
        "\n",
        "from sklearn.preprocessing import StandardScaler\n",
        "scaler = StandardScaler()\n",
        "scaler.fit(train_data)\n",
        "train_data_normalized = scaler.transform(train_data)\n",
        "test_data_normalized = scaler.transform(test_data)\n"
      ],
      "metadata": {
        "id": "KJ7szgo6--95"
      },
      "execution_count": null,
      "outputs": []
    },
    {
      "cell_type": "markdown",
      "source": [
        "# 3. Research\n",
        "\n",
        "Put your code and your experiments here."
      ],
      "metadata": {
        "id": "Hc7HMmNPR10W"
      }
    },
    {
      "cell_type": "code",
      "source": [
        "# code goes here... don't forget to include graphs. Professor Urness loves graphs."
      ],
      "metadata": {
        "id": "XfaACsEOR4U5"
      },
      "execution_count": null,
      "outputs": []
    },
    {
      "cell_type": "code",
      "source": [
        "#KNN \n",
        "from sklearn import neighbors\n",
        "from sklearn import metrics\n",
        "\n",
        "# create our model #tuned\n",
        "neigh = neighbors.KNeighborsRegressor(n_neighbors= 4)\n",
        "\n",
        "# fit (train) the model to the data\n",
        "neigh.fit(train_data_normalized, train_sln)\n",
        "\n",
        "# use the trained model to get predictions from our test_data\n",
        "predictions = neigh.predict(test_data_normalized)\n",
        "\n",
        "\n",
        "# use a metric to see how good our predictions are; Don't miss this! Using Regression metrics here!!\n",
        "print('MSE: ', metrics.mean_squared_error(test_sln, predictions))\n",
        "print('r2: ', metrics.r2_score(test_sln, predictions))"
      ],
      "metadata": {
        "id": "69cktDfQvfhJ",
        "outputId": "4bc805ce-63ca-449a-ca54-002cbb8cad9c",
        "colab": {
          "base_uri": "https://localhost:8080/"
        }
      },
      "execution_count": null,
      "outputs": [
        {
          "output_type": "stream",
          "name": "stdout",
          "text": [
            "MSE:  115651.22916666667\n",
            "r2:  0.6794585043526784\n"
          ]
        }
      ]
    },
    {
      "cell_type": "markdown",
      "source": [
        "overall running the nearest neighbor algorithm gave me the highest r2 value than any of the other algorithms. I tuned this a couple times by changing how many nearest neighbors but 4 is the optimal number to input there. I cant say I am surprised that nearest neighbors gave the best outcome, it is one of the best algorithms for predcition and regression. Although my r2 is not as high as I would like it to be this data was kind of complicated to work with and I think this may be the best it can predict. "
      ],
      "metadata": {
        "id": "sx2j7IVs3Xb3"
      }
    },
    {
      "cell_type": "markdown",
      "source": [
        "explain results: "
      ],
      "metadata": {
        "id": "nM0JnZjmFa9J"
      }
    },
    {
      "cell_type": "code",
      "source": [
        "import matplotlib.pyplot as plt\n",
        "%matplotlib inline\n",
        "import sklearn.metrics\n",
        " \n",
        "# explore different values of k\n",
        "k_vals = range(1,30)\n",
        "r2_vals = []\n",
        "for k in k_vals:\n",
        "  neigh = neighbors.KNeighborsRegressor(n_neighbors = k ) \n",
        "  neigh.fit(train_data_normalized,train_sln)\n",
        "  predictions = neigh.predict(test_data_normalized)\n",
        "  r2_val = sklearn.metrics.r2_score(test_sln, predictions)\n",
        "  r2_vals.append(r2_val)\n",
        " \n",
        "plt.suptitle('GDP Rates K-NN Results',fontsize=18)\n",
        "plt.xlabel('k')\n",
        "plt.ylabel('r^2 vals')\n",
        "plt.plot(k_vals,r2_vals,'ro-',label='k-NN')\n",
        " \n",
        "plt.legend(loc='lower left', shadow=True)\n",
        "plt.axis([0,35,-0.4,1]) \n",
        "plt.show()"
      ],
      "metadata": {
        "id": "a_0wd-WwFdH2",
        "colab": {
          "base_uri": "https://localhost:8080/",
          "height": 308
        },
        "outputId": "fda0a976-591b-411a-d1f8-4df6fe138a40"
      },
      "execution_count": null,
      "outputs": [
        {
          "output_type": "display_data",
          "data": {
            "text/plain": [
              "<Figure size 432x288 with 1 Axes>"
            ],
            "image/png": "[encoded data removed]"
          },
          "metadata": {
            "needs_background": "light"
          }
        }
      ]
    },
    {
      "cell_type": "markdown",
      "source": [
        "Graph Explanation: 30 is the highest I can set my range to based off my dataset. the max value indicated in the graph is between 4 and 5 for the peak K. This graph shows that 5 is the peak and gradually we see a decline in results and the algorithms ability to predict the GDP. \n",
        "\n",
        "> Indented block\n",
        "\n",
        "\n",
        "\n",
        "---\n",
        "\n"
      ],
      "metadata": {
        "id": "7e-4pNT549Bx"
      }
    },
    {
      "cell_type": "code",
      "source": [
        "# decision tree with default paramters\n",
        "dt = tree.DecisionTreeRegressor(random_state = 7) #If None, then nodes are expanded until all leaves are pure or until all leaves contain less\n",
        "\n",
        "# Call fit (to train regression model)\n",
        "dt.fit(train_data_normalized,train_sln)\n",
        "\n",
        "#Call predict to generate predictions\n",
        "car_prices_predictions = dt.predict(test_data_normalized)\n",
        "\n",
        "#Call a metric function to measure performance\n",
        "\n",
        "print('MSE: ', metrics.mean_squared_error(test_sln, car_prices_predictions))\n",
        "print(\"r2\", metrics.r2_score(test_sln,car_prices_predictions))"
      ],
      "metadata": {
        "id": "Yo3fvkl04tMp",
        "colab": {
          "base_uri": "https://localhost:8080/"
        },
        "outputId": "764fbefa-a122-4491-c7b9-0bd55dce78b5"
      },
      "execution_count": null,
      "outputs": [
        {
          "output_type": "stream",
          "name": "stdout",
          "text": [
            "MSE:  1295171.0\n",
            "r2 -2.5897244884509587\n"
          ]
        }
      ]
    },
    {
      "cell_type": "markdown",
      "source": [
        "before and after tuning my MSE stayed relatively the same value. When I started to tune my decision tree and adjust the max depth and random samples my r^2 value would range from negative four to negative 0.700. one of the main issues I have run into with my decision tree is trying to get the r2 value at least a positive value. The decision tree r2 performace was very low (bad) it is negative. I do not think this dataset was that good when working with a decision tree just based off the results. even after tuning different random states, the r2 was never positive. "
      ],
      "metadata": {
        "id": "aexJRQOtTyFA"
      }
    },
    {
      "cell_type": "markdown",
      "source": [
        "decision tree explanation: "
      ],
      "metadata": {
        "id": "I4HQyWc25K0B"
      }
    },
    {
      "cell_type": "code",
      "source": [
        "# explore different values of k\n",
        "import matplotlib.pyplot as plt\n",
        "%matplotlib inline\n",
        "import sklearn.metrics\n",
        "\n",
        "\n",
        "max_dt_vals = range(1,13)\n",
        "r2_vals = []\n",
        "\n",
        "\n",
        "for depth in max_dt_vals:\n",
        "    dt = tree.DecisionTreeRegressor(random_state = 2, max_depth = depth)\n",
        "    dt.fit(train_data_normalized,train_sln)\n",
        "    predictions = dt.predict(test_data_normalized)\n",
        "    r2_val = sklearn.metrics.r2_score(test_sln,predictions)\n",
        "    r2_vals.append(r2_val)\n",
        "    \n",
        "plt.suptitle('Economic Indicator Max Depth Decision Tree Results',fontsize=18)\n",
        "plt.xlabel('max depth')\n",
        "plt.ylabel('dt')\n",
        "plt.plot(max_dt_vals,r2_vals,'ro-',label='r^2 values')\n",
        "plt.legend(loc='lower right', shadow=True)\n",
        "plt.axis([0,17,-1.2,-4.7])\n",
        "plt.show()"
      ],
      "metadata": {
        "id": "9wpWzLzK5B1X",
        "colab": {
          "base_uri": "https://localhost:8080/",
          "height": 308
        },
        "outputId": "0f6eb182-db71-4249-f4f6-9990a5faba8c"
      },
      "execution_count": null,
      "outputs": [
        {
          "output_type": "display_data",
          "data": {
            "text/plain": [
              "<Figure size 432x288 with 1 Axes>"
            ],
            "image/png": "[encoded data removed]"
          },
          "metadata": {
            "needs_background": "light"
          }
        }
      ]
    },
    {
      "cell_type": "markdown",
      "source": [
        "decision tree graph explanation: the decision tree graph looks interesting, this is not the graph i had expected but the graph clearly indicates my peak max depth and the lowest the tree went. The max depth shown in the graph is between 2 and 4 and the low point is below -1.5. When I was tuning the decision tree i found when I tried to adjust range it did not change much in terms of fitting the points onto the graph but I think overall the graph is not the best because the decision tree also did not perform that well with the dataset. "
      ],
      "metadata": {
        "id": "x1jpqgCB5Rxf"
      }
    },
    {
      "cell_type": "code",
      "source": [
        "#random forest \n",
        "from sklearn.ensemble import RandomForestRegressor\n",
        "\n",
        "# a Random Forest Regression\n",
        "forest = RandomForestRegressor(random_state = 1, n_estimators=3, ccp_alpha = 2 )\n",
        "forest.fit(train_data_normalized,train_sln)\n",
        "predictions = forest.predict(test_data_normalized)\n",
        "print(\"RANDOM FOREST accuracy score: \", metrics.r2_score(test_sln,predictions))\n",
        "\n"
      ],
      "metadata": {
        "id": "Cz_62e3k_HZp",
        "colab": {
          "base_uri": "https://localhost:8080/"
        },
        "outputId": "9c47f7d7-464e-435f-d04b-14b5c2dc2d3e"
      },
      "execution_count": null,
      "outputs": [
        {
          "output_type": "stream",
          "name": "stdout",
          "text": [
            "RANDOM FOREST accuracy score:  -1.64565978770607\n"
          ]
        }
      ]
    },
    {
      "cell_type": "markdown",
      "source": [
        "the random forest I was expecting to run a bit better than how it did. I thought it would be able to take the best decision tree and print out a better accuracy. But again I think in this case it is more of an issue with the dataset than it is the algorithms in use. "
      ],
      "metadata": {
        "id": "FapUiEnzMS6w"
      }
    },
    {
      "cell_type": "markdown",
      "source": [
        "RANDOM FOREST ANALYSIS "
      ],
      "metadata": {
        "id": "x_tUEkgNTukO"
      }
    },
    {
      "cell_type": "code",
      "source": [
        "import matplotlib.pyplot as plt\n",
        "%matplotlib inline\n",
        "\n",
        "index = range(len(predictors)) #creates a list of numbers the right size to use as the index\n",
        "\n",
        "plt.figure(figsize=(8,10)) #making the table a bit bigger so the text is readable\n",
        "plt.barh(index,forest.feature_importances_,height=0.8) #horizontal bar chart\n",
        "plt.ylabel('Feature-GDP')\n",
        "plt.yticks(index,predictors) #put the feature names at the y tick marks\n",
        "plt.xlabel(\"Random Forest Feature Importance\")\n",
        "plt.show()"
      ],
      "metadata": {
        "id": "YWrrPA7DTw_W",
        "colab": {
          "base_uri": "https://localhost:8080/",
          "height": 606
        },
        "outputId": "6c3c4736-37ca-4094-d089-2e67c4419bd2"
      },
      "execution_count": null,
      "outputs": [
        {
          "output_type": "display_data",
          "data": {
            "text/plain": [
              "<Figure size 576x720 with 1 Axes>"
            ],
            "image/png": "[encoded data removed]"
          },
          "metadata": {
            "needs_background": "light"
          }
        }
      ]
    },
    {
      "cell_type": "markdown",
      "source": [
        "graph findings: the graph was interesting the case that highlighted the population column of the data as the largest but I presumed because the data was normalized it would not put nearly as much weight on the population column than the other columns. I chose to do a line graph rather than a plotted graph because there were less columns that I would be looking at and i figured a line graph would be better to view my results. "
      ],
      "metadata": {
        "id": "sZFe8iheUFch"
      }
    },
    {
      "cell_type": "markdown",
      "source": [
        "#4. Analysis\n",
        "\n",
        "What did you discover? What insights/recommendations do you have? What did you find that was interesting? Which model was your best model, which models didn't work well? Why do you think this is? In general, I want a discussion of your experiment, the results, and what they mean."
      ],
      "metadata": {
        "id": "2Qu9bYPLmiv_"
      }
    },
    {
      "cell_type": "markdown",
      "source": [
        "What I discovered as I working through the project is that predicting the GDP for countries is overall difficult. Despite the overall efforts I wanted at least one of my algorithms to give an accuracy of above 75% or so and unfortunately none of them did. An insight I had if I did the project over was to maybe explore a couple more alogorithms and see if the data would have performed better had i tried some different regression algorithms. What I found to be interesting was how hard it is to try and work with economic data and getting accurate results. As for my models the K-Nearest Neighbors outperformed my two other models by a long shot. This algorithm gave me the highest r2 out of the three algorithms. The two that performed poorly (negative r2 vals) were the Random Forests and the Decision trees. I am not 100% sure why those two performed so badly but I think it was more issues with the data and what I was trying to do with the data rather than the actual algorithm. "
      ],
      "metadata": {
        "id": "JgT3tg4-OTCi"
      }
    },
    {
      "cell_type": "markdown",
      "source": [
        "# 5. Bumps in the Road\n",
        "What challenges did you encounter? How did you overcome these challenges?"
      ],
      "metadata": {
        "id": "TemAuKxlm6dQ"
      }
    },
    {
      "cell_type": "markdown",
      "source": [
        "I had a few bumps in the road when I was cleaning the data and trying to figure out which columns neeed to be dropped, which columns were just cluttering the data, and figuring out an effective method to do so. I overcame the challenges of partially cleaning the data manually and the rest through code. I had a couple issues with trying to raise my accuracy score (not as successful as I wanted it to be). I also had a couple issues with trying to figure out what numbers to use for my graphs because there were so many negative numbers in my dataset I had to make the x axis for a couple of my graphs negative to get better results. Overall I enjoyed this project and it was fun getting to start from scratch and work with a new data set and look at the results first hand! "
      ],
      "metadata": {
        "id": "zXEVEG9FnHgQ"
      }
    }
  ]
}